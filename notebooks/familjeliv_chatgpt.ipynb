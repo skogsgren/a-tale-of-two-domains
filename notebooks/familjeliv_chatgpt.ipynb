{
 "cells": [
  {
   "cell_type": "code",
   "execution_count": null,
   "id": "10e19349-b440-4310-b775-087df5722c5d",
   "metadata": {
    "tags": []
   },
   "outputs": [],
   "source": [
    "!pip3 install openai "
   ]
  },
  {
   "cell_type": "code",
   "execution_count": 35,
   "id": "3a373cfb-7bc5-4612-bfba-55033daf33dc",
   "metadata": {},
   "outputs": [],
   "source": [
    "import pandas as pd\n",
    "import numpy as np\n",
    "import openai\n",
    "import pickle\n",
    "import sqlite3\n",
    "from datasets import Dataset, load_from_disk, DatasetDict\n",
    "from sklearn.metrics import confusion_matrix \n",
    "from sklearn.metrics import f1_score, precision_score, recall_score\n",
    "from metrics_wrapper import ChatGPTMetricsWrapper"
   ]
  },
  {
   "cell_type": "code",
   "execution_count": 23,
   "id": "746f2687-1b56-4ff5-bbd9-18b27511af2d",
   "metadata": {},
   "outputs": [],
   "source": [
    "conn = sqlite3.connect(\"data/chatgpt_raw.db\")\n",
    "with conn:\n",
    "    cur = conn.cursor()\n",
    "    if conn.execute(\"SELECT * FROM sqlite_master;\").fetchall() == []:\n",
    "        conn.execute(\n",
    "            \"CREATE TABLE completions(\"\n",
    "            \"id INTEGER UNIQUE PRIMARY KEY,\"\n",
    "            \"completion BLOB);\"\n",
    "        )\n",
    "        conn.commit()"
   ]
  },
  {
   "cell_type": "code",
   "execution_count": 24,
   "id": "808d8916-4906-43ee-9903-47a7a667496d",
   "metadata": {
    "tags": []
   },
   "outputs": [
    {
     "data": {
      "text/plain": [
       "978"
      ]
     },
     "execution_count": 24,
     "metadata": {},
     "output_type": "execute_result"
    }
   ],
   "source": [
    "test_arr = load_from_disk(\"datasets/familjeliv_testset/\")[\"test\"][\"text\"]\n",
    "len(test_arr)"
   ]
  },
  {
   "cell_type": "markdown",
   "id": "4dfef03f-bf29-41ad-83aa-6ef36d9a7de1",
   "metadata": {},
   "source": [
    "I stored the OpenAI key in a file named OPENAI_API"
   ]
  },
  {
   "cell_type": "code",
   "execution_count": 10,
   "id": "49da4db8-90d3-4247-abd1-c35af86011d8",
   "metadata": {},
   "outputs": [],
   "source": [
    "openai.api_key_path = \"OPENAI_API\""
   ]
  },
  {
   "cell_type": "code",
   "execution_count": 37,
   "id": "091ac79a-ee2b-4fac-a9a4-215c8796d777",
   "metadata": {},
   "outputs": [],
   "source": [
    "def chatgpt_annotate(arr):\n",
    "    with open(\"data/chatgpt_raw.db\"):\n",
    "        for i, post in enumerate(arr):\n",
    "            conditional = conn.execute(f\"SELECT * FROM completions WHERE id={i};\")\n",
    "            if len(conditional.fetchall()) == 0:\n",
    "                print(f\"{i+1}/{len(arr)}\", end=\"\\r\")\n",
    "                prompt = \"You are an annotator in a linguistic study, where your task is to identify whether the post provided is hate speech or not. You will only respond with the corresponding label, 1 for hate speech, and 0 if it is not hate speech.\"\n",
    "                completion = openai.ChatCompletion.create(\n",
    "                    model=\"gpt-3.5-turbo\",\n",
    "                    messages=[\n",
    "                        {\"role\": \"user\", \"content\": f\"{prompt}\\nPOST: \\\"{post}\\\"\"}\n",
    "                    ],\n",
    "                    temperature=0.2,\n",
    "                )\n",
    "                completion_pkl = pickle.dumps(completion)\n",
    "                conn.execute(\"INSERT INTO completions (id, completion) VALUES (?, ?);\", (i, completion_pkl))\n",
    "                conn.commit()"
   ]
  },
  {
   "cell_type": "code",
   "execution_count": 43,
   "id": "e4ce2434-b3fc-4765-9ff7-ab8d44a0e18e",
   "metadata": {},
   "outputs": [
    {
     "name": "stdout",
     "output_type": "stream",
     "text": [
      "978/978\r"
     ]
    }
   ],
   "source": [
    "chatgpt_annotate(test_arr)"
   ]
  },
  {
   "cell_type": "code",
   "execution_count": 5,
   "id": "9272dfd1-7f69-410c-a402-7c1523932146",
   "metadata": {
    "tags": []
   },
   "outputs": [],
   "source": [
    "conn = sqlite3.connect(\"data/chatgpt_raw.db\")\n",
    "chatgpt_annotations = list()\n",
    "with conn:\n",
    "    for i in conn.execute(\"SELECT * FROM completions;\").fetchall():\n",
    "        unpkl = pickle.loads(i[1])\n",
    "        chatgpt_annotations.append(unpkl)"
   ]
  },
  {
   "cell_type": "code",
   "execution_count": 6,
   "id": "af33ebe4-357b-4c13-b02b-46d38cd21d81",
   "metadata": {},
   "outputs": [],
   "source": [
    "y_pred = [x.choices[0][\"message\"][\"content\"] for x in chatgpt_annotations]\n",
    "for i, x in enumerate(y_pred):\n",
    "    if \"1\" in x:\n",
    "        y_pred[i] = 1\n",
    "    else:\n",
    "        y_pred[i] = 0\n",
    "y_true = [int(x) for x in load_from_disk(\"datasets/familjeliv_testset/\")[\"test\"][\"label\"]]"
   ]
  },
  {
   "cell_type": "code",
   "execution_count": 39,
   "id": "7bfda06e-fe13-4333-afdd-d9bc9050e4fd",
   "metadata": {},
   "outputs": [],
   "source": [
    "text_arr = load_from_disk(\"datasets/familjeliv_testset/\")[\"test\"][\"text\"]\n",
    "prediction_wrapper = list(zip(text_arr, y_true, y_pred))\n",
    "chatgpt_metrics_wrapper = ChatGPTMetricsWrapper(\n",
    "    f1_score(y_true, y_pred),\n",
    "    precision_score(y_true, y_pred),\n",
    "    recall_score(y_true, y_pred),\n",
    "    confusion_matrix(y_true, y_pred),\n",
    "    prediction_wrapper\n",
    ")"
   ]
  },
  {
   "cell_type": "code",
   "execution_count": 40,
   "id": "02fdd9d7-a144-49ee-a32e-dafc943397f9",
   "metadata": {},
   "outputs": [
    {
     "name": "stdout",
     "output_type": "stream",
     "text": [
      "precision: 0.24\n",
      "recall: 0.43\n",
      "f1_score: 0.30\n"
     ]
    },
    {
     "data": {
      "image/png": "[encoded data removed]",
      "text/plain": [
       "<Figure size 432x288 with 2 Axes>"
      ]
     },
     "metadata": {
      "needs_background": "light"
     },
     "output_type": "display_data"
    }
   ],
   "source": [
    "chatgpt_metrics_wrapper.display_metrics()"
   ]
  },
  {
   "cell_type": "code",
   "execution_count": 41,
   "id": "793496f2-7b36-4ad4-b939-eb1a4814af92",
   "metadata": {},
   "outputs": [],
   "source": [
    "with open(\"metrics/familjeliv_chatgpt_metrics.pkl\", \"wb\") as f:\n",
    "    pickle.dump(chatgpt_metrics_wrapper, f)"
   ]
  },
  {
   "cell_type": "markdown",
   "id": "e0242ab0-4f2b-4ea4-bbc5-413f6d2eb45c",
   "metadata": {},
   "source": [
    "The cell below is for manually exploring the annotations"
   ]
  },
  {
   "cell_type": "code",
   "execution_count": null,
   "id": "47c85b4f-2452-4ab2-9570-fed6e189038a",
   "metadata": {
    "tags": []
   },
   "outputs": [],
   "source": [
    "X = load_from_disk(\"datasets/familjeliv_testset/\")[\"test\"][\"text\"]\n",
    "\n",
    "for i, x in enumerate(zip(y_true, y_pred)):\n",
    "    if x[1] == 0 and x[0] == 1:\n",
    "        print(X[i])\n",
    "        print(\"\\n### POST DIVIDER ###\\n\")"
   ]
  }
 ],
 "metadata": {
  "kernelspec": {
   "display_name": "Python 3 (ipykernel)",
   "language": "python",
   "name": "python3"
  },
  "language_info": {
   "codemirror_mode": {
    "name": "ipython",
    "version": 3
   },
   "file_extension": ".py",
   "mimetype": "text/x-python",
   "name": "python",
   "nbconvert_exporter": "python",
   "pygments_lexer": "ipython3",
   "version": "3.8.16"
  }
 },
 "nbformat": 4,
 "nbformat_minor": 5
}
