{
 "cells": [
  {
   "cell_type": "code",
   "execution_count": null,
   "id": "13d1f8d7-a32d-4d64-aaee-d0b0fe0b7450",
   "metadata": {
    "tags": []
   },
   "outputs": [],
   "source": [
    "!pip3 install evaluate"
   ]
  },
  {
   "cell_type": "code",
   "execution_count": 9,
   "id": "bb520822-b289-433b-b6ca-f188c00ee31e",
   "metadata": {},
   "outputs": [],
   "source": [
    "import pandas as pd\n",
    "import numpy as np\n",
    "from transformers import AutoTokenizer, AutoModelForSequenceClassification\n",
    "from transformers import TrainingArguments, Trainer\n",
    "from transformers import pipeline\n",
    "import torch\n",
    "from datasets import Dataset, load_from_disk, DatasetDict\n",
    "import evaluate\n",
    "from sklearn.metrics import confusion_matrix \n",
    "from sklearn.metrics import f1_score\n",
    "import torch.nn.functional as F\n",
    "from transformers import AutoConfig\n",
    "\n",
    "import seaborn as sns\n",
    "import matplotlib.pyplot as plt\n",
    "\n",
    "from metrics_wrapper import MetricsWrapper\n",
    "\n",
    "\n",
    "import math\n",
    "import sqlite3\n",
    "from transformers import AutoModelForMaskedLM\n",
    "from transformers import DataCollatorForLanguageModeling\n",
    "\n",
    "import pickle"
   ]
  },
  {
   "cell_type": "markdown",
   "id": "115bacc4-e14d-4770-bdb2-b4256bcbce4d",
   "metadata": {
    "tags": []
   },
   "source": [
    "## Import data and create 🤗 dataset"
   ]
  },
  {
   "cell_type": "code",
   "execution_count": null,
   "id": "5f754958-ae04-43cd-8eeb-9e67f03b9417",
   "metadata": {},
   "outputs": [],
   "source": [
    "annotated_df = pd.read_csv(\"data/flashback_annotated.tsv\", sep=\"\\t\", index_col=0)"
   ]
  },
  {
   "cell_type": "markdown",
   "id": "77d3c462-bda0-46a4-8616-ecb36a78272d",
   "metadata": {},
   "source": [
    "My reasoning for the split is as follows: I need the training set to be as large as possible, seeing that I want to give it more than a fair chance. In order for me to do that I need to have the split be large enough to accomodate another dev-split for the training set, in addition to the 15% taken for the test set. Additionally, I'll have to define a function which gives the test/train set the same proportion as the original."
   ]
  },
  {
   "cell_type": "code",
   "execution_count": 117,
   "id": "6e61ccf5-17a0-466c-9254-1fd335338706",
   "metadata": {},
   "outputs": [],
   "source": [
    "def test_train_split(df: str, train_size=0.8, test_size=0.2):\n",
    "    \"\"\" splits a dataframe to two randomly according to proportion of labels \"\"\"\n",
    "    assert test_size + train_size == 1\n",
    "    np.random.seed(666)  # for reproducibility\n",
    "    res = dict()\n",
    "    SIZE = len(df)\n",
    "    PROPORTION = len(df.loc[df[\"label\"] == 1]) / SIZE\n",
    "\n",
    "    # calculate how large each set should be\n",
    "    SPLIT_TOTAL_SIZE = {\"train\": int(SIZE * train_size)}\n",
    "    SPLIT_TOTAL_SIZE[\"test\"] = SIZE - SPLIT_TOTAL_SIZE[\"train\"]\n",
    "\n",
    "    # define how many of each label for train set, calculated from proportion\n",
    "    SPLIT_LABEL_SIZE = {\"train\": {\"1\": int(SPLIT_TOTAL_SIZE[\"train\"] * PROPORTION)}}\n",
    "    SPLIT_LABEL_SIZE[\"train\"][\"0\"] = SPLIT_TOTAL_SIZE[\"train\"] - SPLIT_LABEL_SIZE[\"train\"][\"1\"]\n",
    "\n",
    "    # for the test set we need to calculate them from the train set to avoid mismatch in sizes between labels\n",
    "    SPLIT_LABEL_SIZE[\"test\"] = {\"1\": len(df.loc[df[\"label\"] == 1]) - SPLIT_LABEL_SIZE[\"train\"][\"1\"]}\n",
    "    SPLIT_LABEL_SIZE[\"test\"][\"0\"] = len(df.loc[df[\"label\"] == 0]) - SPLIT_LABEL_SIZE[\"train\"][\"0\"]\n",
    "    \n",
    "    print(f\"Split proportion: {SPLIT_LABEL_SIZE}\\n\\tSUM: train={sum(SPLIT_LABEL_SIZE['train'].values())}, test={sum(SPLIT_LABEL_SIZE['test'].values())}\")\n",
    "    arr_check = list()  # list just to make sure that we aren't adding posts to both train and test set\n",
    "    for current_set in [\"test\", \"train\"]:\n",
    "        df_subset = pd.DataFrame({'text': str(), 'label': int()}, index=[])\n",
    "\n",
    "        # randomly choose indices to be dropped according to proportion\n",
    "        idx_one = np.random.choice(\n",
    "            df.loc[df['label'] == 1].index,\n",
    "            size=SPLIT_LABEL_SIZE[current_set][\"1\"],\n",
    "            replace=False\n",
    "        )\n",
    "        idx_zero = np.random.choice(\n",
    "            df.loc[df['label'] == 0].index,\n",
    "            size=SPLIT_LABEL_SIZE[current_set][\"0\"],\n",
    "            replace=False\n",
    "        )\n",
    "        idx_arr = np.append(idx_one, idx_zero)\n",
    "        arr_check.append(idx_arr)\n",
    "\n",
    "        # extract rows, drop them from original df and add df_subset to result\n",
    "        rows = df.loc[idx_arr]\n",
    "        df = df.drop(idx_arr, axis=0)\n",
    "        df_subset = pd.concat((df_subset, rows)).sample(frac = 1)\n",
    "        res[current_set] = df_subset\n",
    "\n",
    "    # double check that no posts are in both sets\n",
    "    for i in arr_check[0]:\n",
    "        for j in arr_check[1]:\n",
    "            if i == j:\n",
    "                print(f\"ERROR: post present in both train and test set! [{i}]\")\n",
    "                return None\n",
    "    return {\"train\": res[\"train\"].reset_index(drop=True), \"test\": res[\"test\"].reset_index(drop=True)}"
   ]
  },
  {
   "cell_type": "code",
   "execution_count": 118,
   "id": "d62084fc-bec4-4f52-b857-6aadd9715725",
   "metadata": {},
   "outputs": [
    {
     "name": "stdout",
     "output_type": "stream",
     "text": [
      "Split proportion: {'train': {'1': 754, '0': 2478}, 'test': {'1': 189, '0': 619}}\n",
      "\tSUM: train=3232, test=808\n",
      "Split proportion: {'train': {'1': 603, '0': 1982}, 'test': {'1': 151, '0': 496}}\n",
      "\tSUM: train=2585, test=647\n"
     ]
    },
    {
     "data": {
      "text/plain": [
       "DatasetDict({\n",
       "    train: Dataset({\n",
       "        features: ['text', 'label'],\n",
       "        num_rows: 2585\n",
       "    })\n",
       "    test: Dataset({\n",
       "        features: ['text', 'label'],\n",
       "        num_rows: 647\n",
       "    })\n",
       "})"
      ]
     },
     "execution_count": 118,
     "metadata": {},
     "output_type": "execute_result"
    }
   ],
   "source": [
    "dfs = test_train_split(annotated_df)\n",
    "dfs[\"test\"].to_csv(\"datasets/flashback_annotated_data_test_set.tsv\", sep=\"\\t\", index=False)\n",
    "dfs = test_train_split(dfs[\"train\"])\n",
    "dataset = DatasetDict({\"train\": Dataset.from_pandas(dfs[\"train\"]), \"test\": Dataset.from_pandas(dfs[\"test\"])})\n",
    "dataset"
   ]
  },
  {
   "cell_type": "code",
   "execution_count": 119,
   "id": "75e2fbbf-62d2-4f71-befb-0541962bc1cc",
   "metadata": {},
   "outputs": [],
   "source": [
    "dataset.save_to_disk(\"datasets/flashback_annotated_dev_set\")"
   ]
  },
  {
   "cell_type": "markdown",
   "id": "633b056c-beda-4723-805f-9955d1468a73",
   "metadata": {},
   "source": [
    "Note that the test set is exported as a TSV, and will not be touched until the very end."
   ]
  },
  {
   "cell_type": "markdown",
   "id": "ae349bf9-5f59-451a-b38f-65cc310632ba",
   "metadata": {
    "tags": []
   },
   "source": [
    "## Import finetuned masked LM model and add text classification head"
   ]
  },
  {
   "cell_type": "markdown",
   "id": "39c0d605-f621-476e-8f9b-277da891a465",
   "metadata": {
    "tags": []
   },
   "source": [
    "### Finetuning"
   ]
  },
  {
   "cell_type": "code",
   "execution_count": 15,
   "id": "069d9b87-8837-4cd7-adb3-95527dac7631",
   "metadata": {},
   "outputs": [
    {
     "data": {
      "text/plain": [
       "DatasetDict({\n",
       "    train: Dataset({\n",
       "        features: ['text', 'label'],\n",
       "        num_rows: 2585\n",
       "    })\n",
       "    test: Dataset({\n",
       "        features: ['text', 'label'],\n",
       "        num_rows: 647\n",
       "    })\n",
       "})"
      ]
     },
     "execution_count": 15,
     "metadata": {},
     "output_type": "execute_result"
    }
   ],
   "source": [
    "dataset = load_from_disk(\"datasets/flashback_annotated_dev_set\")\n",
    "dataset"
   ]
  },
  {
   "cell_type": "code",
   "execution_count": null,
   "id": "4610a11d-f52a-4bc5-a112-9471dd18219c",
   "metadata": {},
   "outputs": [],
   "source": [
    "configuration = AutoConfig.from_pretrained(\"flashback_lm_model_larger_batch_size\")\n",
    "configuration.hidden_dropout_prob = 0.2\n",
    "configuration.attention_probs_dropout_prob = 0.2\n",
    "\n",
    "masked_lm_checkpoint = AutoModelForSequenceClassification.from_pretrained(\n",
    "    \"flashback_lm_model_larger_batch_size\",\n",
    "    config=configuration\n",
    ")\n",
    "tokenizer = AutoTokenizer.from_pretrained(\"flashback_lm_model_larger_batch_size\")"
   ]
  },
  {
   "cell_type": "markdown",
   "id": "fae11354-8d61-475f-8ef7-5443d3f3d89f",
   "metadata": {},
   "source": [
    "The following is needed because it is wrongly set in the KB model"
   ]
  },
  {
   "cell_type": "code",
   "execution_count": 17,
   "id": "c25628be-a9c9-42ad-baed-4997b7c0682d",
   "metadata": {},
   "outputs": [
    {
     "data": {
      "text/plain": [
       "512"
      ]
     },
     "execution_count": 17,
     "metadata": {},
     "output_type": "execute_result"
    }
   ],
   "source": [
    "tokenizer.model_max_length = 512  # since this is incorrectly set in KB's model\n",
    "tokenizer.model_max_length"
   ]
  },
  {
   "cell_type": "code",
   "execution_count": 18,
   "id": "58c25e6c-9fc0-45a2-bd4a-cdec1c04204b",
   "metadata": {},
   "outputs": [],
   "source": [
    "def tokenize_function(examples):\n",
    "    return tokenizer(examples[\"text\"], padding=\"max_length\", truncation=True)"
   ]
  },
  {
   "cell_type": "code",
   "execution_count": 19,
   "id": "4d64666e-0afd-4863-bcdf-2a9878bea238",
   "metadata": {},
   "outputs": [
    {
     "name": "stderr",
     "output_type": "stream",
     "text": [
      "Loading cached processed dataset at datasets/flashback_annotated_dev_set/train/cache-1c80317fa3b1799d.arrow\n",
      "Loading cached processed dataset at datasets/flashback_annotated_dev_set/test/cache-bdd640fb06671ad1.arrow\n"
     ]
    },
    {
     "data": {
      "text/plain": [
       "DatasetDict({\n",
       "    train: Dataset({\n",
       "        features: ['text', 'label', 'input_ids', 'token_type_ids', 'attention_mask'],\n",
       "        num_rows: 2918\n",
       "    })\n",
       "    test: Dataset({\n",
       "        features: ['text', 'label', 'input_ids', 'token_type_ids', 'attention_mask'],\n",
       "        num_rows: 515\n",
       "    })\n",
       "})"
      ]
     },
     "execution_count": 19,
     "metadata": {},
     "output_type": "execute_result"
    }
   ],
   "source": [
    "tokenized_datasets = dataset.map(tokenize_function, batched=True)\n",
    "tokenized_datasets"
   ]
  },
  {
   "cell_type": "code",
   "execution_count": 23,
   "id": "348a7905-c6d7-4eca-bb8e-4eac02d33069",
   "metadata": {},
   "outputs": [
    {
     "name": "stderr",
     "output_type": "stream",
     "text": [
      "PyTorch: setting up devices\n",
      "The default value for the training argument `--report_to` will change in v5 (from all installed integrations to none). In v5, you will need to use `--report_to all` to get the same behavior as now. You should start updating your code and make this info disappear :-).\n"
     ]
    }
   ],
   "source": [
    "batch_size = 16\n",
    "# Show the training loss with every epoch\n",
    "logging_steps = len(dataset[\"train\"]) // batch_size\n",
    "metric = evaluate.load(\"f1\")\n",
    "\n",
    "model_name = \"bert-base-swedish-cased\"  # just for naming checkpoint saves\n",
    "\n",
    "def compute_metrics(eval_pred):\n",
    "    logits, labels = eval_pred\n",
    "    predictions = np.argmax(logits, axis=-1)\n",
    "    return metric.compute(predictions=predictions, references=labels)\n",
    "\n",
    "\n",
    "training_args = TrainingArguments(\n",
    "    output_dir=f\"{model_name}-finetuned-classification-flashback\",\n",
    "    overwrite_output_dir=True,\n",
    "    evaluation_strategy=\"epoch\",\n",
    "    learning_rate=1e-5,\n",
    "    weight_decay=0.0005,\n",
    "    per_device_train_batch_size=batch_size,\n",
    "    per_device_eval_batch_size=batch_size,\n",
    "    eval_accumulation_steps=1,  # slower, but less prone to overflow CUDA memory\n",
    "    num_train_epochs=3,\n",
    "    save_steps = 5000,\n",
    "    logging_steps=logging_steps,\n",
    "    save_strategy=\"no\",  # I don't need to save model checkpoints when running experiments\n",
    ")"
   ]
  },
  {
   "cell_type": "code",
   "execution_count": 24,
   "id": "ff92d712-bdf2-45f1-acb9-06c2635ab7de",
   "metadata": {},
   "outputs": [],
   "source": [
    "trainer = Trainer(\n",
    "    model=masked_lm_checkpoint,\n",
    "    args=training_args,\n",
    "    train_dataset=tokenized_datasets[\"train\"],\n",
    "    eval_dataset=tokenized_datasets[\"test\"],\n",
    "    tokenizer=tokenizer,\n",
    "    compute_metrics=compute_metrics,\n",
    ")"
   ]
  },
  {
   "cell_type": "code",
   "execution_count": 25,
   "id": "bcc2699f-6411-42a7-8264-bdcfa10176ca",
   "metadata": {},
   "outputs": [
    {
     "name": "stderr",
     "output_type": "stream",
     "text": [
      "The following columns in the training set don't have a corresponding argument in `BertForSequenceClassification.forward` and have been ignored: text. If text are not expected by `BertForSequenceClassification.forward`,  you can safely ignore this message.\n",
      "***** Running training *****\n",
      "  Num examples = 2918\n",
      "  Num Epochs = 3\n",
      "  Instantaneous batch size per device = 16\n",
      "  Total train batch size (w. parallel, distributed & accumulation) = 16\n",
      "  Gradient Accumulation steps = 1\n",
      "  Total optimization steps = 549\n"
     ]
    },
    {
     "data": {
      "text/html": [
       "\n",
       "    <div>\n",
       "      \n",
       "      <progress value='549' max='549' style='width:300px; height:20px; vertical-align: middle;'></progress>\n",
       "      [549/549 07:11, Epoch 3/3]\n",
       "    </div>\n",
       "    <table border=\"1\" class=\"dataframe\">\n",
       "  <thead>\n",
       " <tr style=\"text-align: left;\">\n",
       "      <th>Epoch</th>\n",
       "      <th>Training Loss</th>\n",
       "      <th>Validation Loss</th>\n",
       "      <th>F1</th>\n",
       "    </tr>\n",
       "  </thead>\n",
       "  <tbody>\n",
       "    <tr>\n",
       "      <td>1</td>\n",
       "      <td>0.483600</td>\n",
       "      <td>0.442357</td>\n",
       "      <td>0.425532</td>\n",
       "    </tr>\n",
       "    <tr>\n",
       "      <td>2</td>\n",
       "      <td>0.384600</td>\n",
       "      <td>0.398810</td>\n",
       "      <td>0.580087</td>\n",
       "    </tr>\n",
       "    <tr>\n",
       "      <td>3</td>\n",
       "      <td>0.354900</td>\n",
       "      <td>0.416379</td>\n",
       "      <td>0.562500</td>\n",
       "    </tr>\n",
       "  </tbody>\n",
       "</table><p>"
      ],
      "text/plain": [
       "<IPython.core.display.HTML object>"
      ]
     },
     "metadata": {},
     "output_type": "display_data"
    },
    {
     "name": "stderr",
     "output_type": "stream",
     "text": [
      "The following columns in the evaluation set don't have a corresponding argument in `BertForSequenceClassification.forward` and have been ignored: text. If text are not expected by `BertForSequenceClassification.forward`,  you can safely ignore this message.\n",
      "***** Running Evaluation *****\n",
      "  Num examples = 515\n",
      "  Batch size = 16\n",
      "The following columns in the evaluation set don't have a corresponding argument in `BertForSequenceClassification.forward` and have been ignored: text. If text are not expected by `BertForSequenceClassification.forward`,  you can safely ignore this message.\n",
      "***** Running Evaluation *****\n",
      "  Num examples = 515\n",
      "  Batch size = 16\n",
      "The following columns in the evaluation set don't have a corresponding argument in `BertForSequenceClassification.forward` and have been ignored: text. If text are not expected by `BertForSequenceClassification.forward`,  you can safely ignore this message.\n",
      "***** Running Evaluation *****\n",
      "  Num examples = 515\n",
      "  Batch size = 16\n",
      "\n",
      "\n",
      "Training completed. Do not forget to share your model on huggingface.co/models =)\n",
      "\n",
      "\n"
     ]
    },
    {
     "data": {
      "text/plain": [
       "TrainOutput(global_step=549, training_loss=0.3961040517671512, metrics={'train_runtime': 432.5692, 'train_samples_per_second': 20.237, 'train_steps_per_second': 1.269, 'total_flos': 2303274178621440.0, 'train_loss': 0.3961040517671512, 'epoch': 3.0})"
      ]
     },
     "execution_count": 25,
     "metadata": {},
     "output_type": "execute_result"
    }
   ],
   "source": [
    "trainer.train()"
   ]
  },
  {
   "cell_type": "code",
   "execution_count": 30,
   "id": "bad4ebc3-a85c-449d-aef2-f5a04a742f7b",
   "metadata": {},
   "outputs": [
    {
     "name": "stderr",
     "output_type": "stream",
     "text": [
      "The following columns in the evaluation set don't have a corresponding argument in `BertForSequenceClassification.forward` and have been ignored: text. If text are not expected by `BertForSequenceClassification.forward`,  you can safely ignore this message.\n",
      "***** Running Evaluation *****\n",
      "  Num examples = 515\n",
      "  Batch size = 16\n"
     ]
    },
    {
     "data": {
      "text/html": [
       "\n",
       "    <div>\n",
       "      \n",
       "      <progress value='308' max='33' style='width:300px; height:20px; vertical-align: middle;'></progress>\n",
       "      [33/33 32:40]\n",
       "    </div>\n",
       "    "
      ],
      "text/plain": [
       "<IPython.core.display.HTML object>"
      ]
     },
     "metadata": {},
     "output_type": "display_data"
    },
    {
     "data": {
      "text/plain": [
       "{'eval_loss': 0.43985089659690857,\n",
       " 'eval_f1': 0.5520361990950227,\n",
       " 'eval_runtime': 21.7128,\n",
       " 'eval_samples_per_second': 23.719,\n",
       " 'eval_steps_per_second': 1.52,\n",
       " 'epoch': 3.0}"
      ]
     },
     "execution_count": 30,
     "metadata": {},
     "output_type": "execute_result"
    }
   ],
   "source": [
    "trainer.evaluate()"
   ]
  },
  {
   "cell_type": "code",
   "execution_count": 26,
   "id": "08f8e967-86d5-4177-b2fe-f5900cae29f2",
   "metadata": {},
   "outputs": [
    {
     "name": "stderr",
     "output_type": "stream",
     "text": [
      "Saving model checkpoint to flashback_annotated_model\n",
      "Configuration saved in flashback_annotated_model/config.json\n",
      "Model weights saved in flashback_annotated_model/pytorch_model.bin\n",
      "tokenizer config file saved in flashback_annotated_model/tokenizer_config.json\n",
      "Special tokens file saved in flashback_annotated_model/special_tokens_map.json\n"
     ]
    }
   ],
   "source": [
    "trainer.save_model(\"flashback_annotated_model\")"
   ]
  },
  {
   "cell_type": "markdown",
   "id": "81e0b4f4-423f-4f1c-bf3c-e5d4d76feab7",
   "metadata": {
    "tags": []
   },
   "source": [
    "## Evaluation of model and wrong predictions"
   ]
  },
  {
   "cell_type": "markdown",
   "id": "c3a920fb-b5a9-4ba6-9ebe-d3519f0f419d",
   "metadata": {},
   "source": [
    "In order to evaluate different datasets we first define a pipeline:"
   ]
  },
  {
   "cell_type": "code",
   "execution_count": 4,
   "id": "2c6743fa-42e7-402f-919b-7c605dfc8840",
   "metadata": {},
   "outputs": [],
   "source": [
    "annotated_model_pipeline = pipeline(\n",
    "    \"text-classification\",\n",
    "    model=\"flashback_annotated_model\",\n",
    ")"
   ]
  },
  {
   "cell_type": "markdown",
   "id": "ec2ec730-2a58-4100-90ce-109324400060",
   "metadata": {},
   "source": [
    "Then I created a wrapper for calculating and displaying metrics, which we can easily then use for all three test sets:"
   ]
  },
  {
   "cell_type": "markdown",
   "id": "f0c00e3c-706d-444a-9888-cb1dbd51705c",
   "metadata": {},
   "source": [
    "### Dev-set"
   ]
  },
  {
   "cell_type": "code",
   "execution_count": 4,
   "id": "38e26dda-ac42-458e-a557-a7656d68567e",
   "metadata": {},
   "outputs": [
    {
     "data": {
      "text/plain": [
       "DatasetDict({\n",
       "    train: Dataset({\n",
       "        features: ['text', 'label'],\n",
       "        num_rows: 2585\n",
       "    })\n",
       "    test: Dataset({\n",
       "        features: ['text', 'label'],\n",
       "        num_rows: 647\n",
       "    })\n",
       "})"
      ]
     },
     "execution_count": 4,
     "metadata": {},
     "output_type": "execute_result"
    }
   ],
   "source": [
    "dev_dataset = load_from_disk(\"datasets/flashback_annotated_dev_set\")\n",
    "dev_dataset"
   ]
  },
  {
   "cell_type": "code",
   "execution_count": 5,
   "id": "47dd5d9d-71bd-48c2-a434-d8ee663ab309",
   "metadata": {},
   "outputs": [],
   "source": [
    "dev_metrics = MetricsWrapper(annotated_model_pipeline, dev_dataset[\"test\"])"
   ]
  },
  {
   "cell_type": "code",
   "execution_count": 6,
   "id": "12f2c70b-9f29-4109-a3d0-a8f98adf0237",
   "metadata": {},
   "outputs": [
    {
     "name": "stdout",
     "output_type": "stream",
     "text": [
      "precision: 0.75\n",
      "recall: 0.50\n",
      "f1_score: 0.60\n"
     ]
    },
    {
     "data": {
      "image/png": "[encoded data removed]",
      "text/plain": [
       "<Figure size 432x288 with 2 Axes>"
      ]
     },
     "metadata": {
      "needs_background": "light"
     },
     "output_type": "display_data"
    }
   ],
   "source": [
    "dev_metrics.display_metrics()"
   ]
  },
  {
   "cell_type": "markdown",
   "id": "d91d5d66-add5-407b-a100-99db1abda9c8",
   "metadata": {},
   "source": [
    "## Cross-domain scenario"
   ]
  },
  {
   "cell_type": "markdown",
   "id": "0caaba34-d840-4ef0-8525-08221ff018ae",
   "metadata": {
    "tags": []
   },
   "source": [
    "### MLM"
   ]
  },
  {
   "cell_type": "code",
   "execution_count": 4,
   "id": "068dbc29-8ddc-46dc-a7bc-299b34282b09",
   "metadata": {},
   "outputs": [
    {
     "name": "stderr",
     "output_type": "stream",
     "text": [
      "Some weights of the model checkpoint at flashback_annotated_model were not used when initializing BertForMaskedLM: ['classifier.bias', 'classifier.weight']\n",
      "- This IS expected if you are initializing BertForMaskedLM from the checkpoint of a model trained on another task or with another architecture (e.g. initializing a BertForSequenceClassification model from a BertForPreTraining model).\n",
      "- This IS NOT expected if you are initializing BertForMaskedLM from the checkpoint of a model that you expect to be exactly identical (initializing a BertForSequenceClassification model from a BertForSequenceClassification model).\n",
      "Some weights of BertForMaskedLM were not initialized from the model checkpoint at flashback_annotated_model and are newly initialized: ['cls.predictions.transform.LayerNorm.weight', 'cls.predictions.decoder.weight', 'cls.predictions.transform.dense.bias', 'cls.predictions.bias', 'cls.predictions.transform.LayerNorm.bias', 'cls.predictions.transform.dense.weight']\n",
      "You should probably TRAIN this model on a down-stream task to be able to use it for predictions and inference.\n"
     ]
    }
   ],
   "source": [
    "tokenizer = AutoTokenizer.from_pretrained('flashback_annotated_model')\n",
    "tokenizer.model_max_length = 512\n",
    "model_checkpoint = AutoModelForMaskedLM.from_pretrained('flashback_annotated_model')"
   ]
  },
  {
   "cell_type": "code",
   "execution_count": 8,
   "id": "9fa343a4-55ec-4465-af35-d48e7090e7fd",
   "metadata": {},
   "outputs": [
    {
     "data": {
      "text/plain": [
       "DatasetDict({\n",
       "    train: Dataset({\n",
       "        features: ['text', 'label'],\n",
       "        num_rows: 100000\n",
       "    })\n",
       "    test: Dataset({\n",
       "        features: ['text', 'label'],\n",
       "        num_rows: 10000\n",
       "    })\n",
       "})"
      ]
     },
     "execution_count": 8,
     "metadata": {},
     "output_type": "execute_result"
    }
   ],
   "source": [
    "conn = sqlite3.connect(\"data/familjeliv.db\")\n",
    "with conn:\n",
    "    pool_df = pd.read_sql_query(\"SELECT * FROM posts;\", conn, index_col=\"id\")\n",
    "    pool_df = pool_df.sample(frac = 1, random_state = 666).reset_index(drop=True)\n",
    "    pool_df[\"label\"] = 0\n",
    "    pool_df = pool_df[[\"text\", \"label\"]]\n",
    "\n",
    "mlm_dataset = DatasetDict({\n",
    "    \"train\": Dataset.from_pandas(pool_df[:100000].reset_index(drop=True)),\n",
    "    \"test\": Dataset.from_pandas(pool_df[100000:110000].reset_index(drop=True))\n",
    "})\n",
    "\n",
    "mlm_dataset"
   ]
  },
  {
   "cell_type": "code",
   "execution_count": 9,
   "id": "8f779709-2826-409e-9aab-12d028d70f8b",
   "metadata": {},
   "outputs": [],
   "source": [
    "def tokenize_function(document):\n",
    "    \"\"\" returns tokenized document, quickly if tokenizer 'is fast' according to hf\"\"\"\n",
    "    result = tokenizer(document[\"text\"])\n",
    "    if tokenizer.is_fast:\n",
    "        result[\"word_ids\"] = [result.word_ids(i) for i in range(len(result[\"input_ids\"]))]\n",
    "    return result"
   ]
  },
  {
   "cell_type": "code",
   "execution_count": 10,
   "id": "4e9d0736-e3a2-4c90-b012-79fba6d02e7b",
   "metadata": {},
   "outputs": [],
   "source": [
    "chunk_size = tokenizer.model_max_length"
   ]
  },
  {
   "cell_type": "code",
   "execution_count": 11,
   "id": "1753e3e5-74e7-444a-8d32-b248bd8ad5fd",
   "metadata": {},
   "outputs": [
    {
     "name": "stderr",
     "output_type": "stream",
     "text": [
      "Parameter 'function'=<function tokenize_function at 0x7f381d9e2670> of the transform datasets.arrow_dataset.Dataset._map_single couldn't be hashed properly, a random hash was used instead. Make sure your transforms and parameters are serializable with pickle or dill for the dataset fingerprinting and caching to work. If you reuse this transform, the caching mechanism will consider it to be different from the previous calls and recompute everything. This warning is only showed once. Subsequent hashing failures won't be showed.\n"
     ]
    },
    {
     "data": {
      "application/vnd.jupyter.widget-view+json": {
       "model_id": "efb92559da284034934d8c54407e654c",
       "version_major": 2,
       "version_minor": 0
      },
      "text/plain": [
       "  0%|          | 0/100 [00:00<?, ?ba/s]"
      ]
     },
     "metadata": {},
     "output_type": "display_data"
    },
    {
     "name": "stderr",
     "output_type": "stream",
     "text": [
      "Token indices sequence length is longer than the specified maximum sequence length for this model (1033 > 512). Running this sequence through the model will result in indexing errors\n"
     ]
    },
    {
     "data": {
      "application/vnd.jupyter.widget-view+json": {
       "model_id": "34deeb48e6a14240b569f6293142dea7",
       "version_major": 2,
       "version_minor": 0
      },
      "text/plain": [
       "  0%|          | 0/10 [00:00<?, ?ba/s]"
      ]
     },
     "metadata": {},
     "output_type": "display_data"
    },
    {
     "data": {
      "text/plain": [
       "DatasetDict({\n",
       "    train: Dataset({\n",
       "        features: ['input_ids', 'token_type_ids', 'attention_mask', 'word_ids'],\n",
       "        num_rows: 100000\n",
       "    })\n",
       "    test: Dataset({\n",
       "        features: ['input_ids', 'token_type_ids', 'attention_mask', 'word_ids'],\n",
       "        num_rows: 10000\n",
       "    })\n",
       "})"
      ]
     },
     "execution_count": 11,
     "metadata": {},
     "output_type": "execute_result"
    }
   ],
   "source": [
    "tokenized_datasets = mlm_dataset.map(\n",
    "    tokenize_function, batched=True, remove_columns=[\"text\", \"label\"]\n",
    ")\n",
    "tokenized_datasets"
   ]
  },
  {
   "cell_type": "code",
   "execution_count": 12,
   "id": "a0cc3447-3535-49e8-a880-e2cfa0eb3688",
   "metadata": {},
   "outputs": [],
   "source": [
    "def group_texts(examples):\n",
    "    # Concatenate all texts\n",
    "    concatenated_examples = {k: sum(examples[k], []) for k in examples.keys()}\n",
    "    # Compute length of concatenated texts\n",
    "    total_length = len(concatenated_examples[list(examples.keys())[0]])\n",
    "    # We drop the last chunk if it's smaller than chunk_size\n",
    "    total_length = (total_length // chunk_size) * chunk_size\n",
    "    # Split by chunks of max_len\n",
    "    result = {\n",
    "        k: [t[i : i + chunk_size] for i in range(0, total_length, chunk_size)]\n",
    "        for k, t in concatenated_examples.items()\n",
    "    }\n",
    "    # Create a new labels column\n",
    "    result[\"labels\"] = result[\"input_ids\"].copy()\n",
    "    return result"
   ]
  },
  {
   "cell_type": "code",
   "execution_count": 13,
   "id": "53276a12-5914-41d4-88df-bc95e8e0335c",
   "metadata": {},
   "outputs": [
    {
     "data": {
      "application/vnd.jupyter.widget-view+json": {
       "model_id": "35d76df5a4e841d594f7121bb5908179",
       "version_major": 2,
       "version_minor": 0
      },
      "text/plain": [
       "  0%|          | 0/100 [00:00<?, ?ba/s]"
      ]
     },
     "metadata": {},
     "output_type": "display_data"
    },
    {
     "data": {
      "application/vnd.jupyter.widget-view+json": {
       "model_id": "8302e10515c7413baac392810588e730",
       "version_major": 2,
       "version_minor": 0
      },
      "text/plain": [
       "  0%|          | 0/10 [00:00<?, ?ba/s]"
      ]
     },
     "metadata": {},
     "output_type": "display_data"
    },
    {
     "data": {
      "text/plain": [
       "DatasetDict({\n",
       "    train: Dataset({\n",
       "        features: ['input_ids', 'token_type_ids', 'attention_mask', 'word_ids', 'labels'],\n",
       "        num_rows: 14803\n",
       "    })\n",
       "    test: Dataset({\n",
       "        features: ['input_ids', 'token_type_ids', 'attention_mask', 'word_ids', 'labels'],\n",
       "        num_rows: 1441\n",
       "    })\n",
       "})"
      ]
     },
     "execution_count": 13,
     "metadata": {},
     "output_type": "execute_result"
    }
   ],
   "source": [
    "mlm_dataset = tokenized_datasets.map(group_texts, batched=True)\n",
    "mlm_dataset"
   ]
  },
  {
   "cell_type": "code",
   "execution_count": 14,
   "id": "cb9d9907-b9a3-42a8-a9cd-29c6d38a172b",
   "metadata": {},
   "outputs": [],
   "source": [
    "batch_size = 12\n",
    "# Show the training loss with every epoch\n",
    "logging_steps = len(mlm_dataset[\"train\"]) // batch_size\n",
    "model_name = \"bert-base-swedish-cased\"\n",
    "\n",
    "training_args = TrainingArguments(\n",
    "    output_dir=f\"{model_name}-finetuned-familjeliv-annotated\",\n",
    "    overwrite_output_dir=True,\n",
    "    evaluation_strategy=\"epoch\",\n",
    "    learning_rate=2e-5,\n",
    "    weight_decay=0.01,\n",
    "    per_device_train_batch_size=batch_size,\n",
    "    per_device_eval_batch_size=batch_size,\n",
    "    eval_accumulation_steps=1,  # slower, but less prone to overflow CUDA memory\n",
    "    num_train_epochs=15,\n",
    "    save_strategy=\"no\",  # not necessary here\n",
    "    logging_steps=logging_steps,\n",
    ")\n",
    "\n",
    "trainer = Trainer(\n",
    "    model=model_checkpoint,\n",
    "    args=training_args,\n",
    "    train_dataset=mlm_dataset[\"train\"],\n",
    "    eval_dataset=mlm_dataset[\"test\"],\n",
    "    data_collator=DataCollatorForLanguageModeling(tokenizer=tokenizer, mlm_probability=0.15),\n",
    "    tokenizer=tokenizer,\n",
    ")"
   ]
  },
  {
   "cell_type": "code",
   "execution_count": 18,
   "id": "862a3c89-4e7d-4e71-a2b0-f192676ef748",
   "metadata": {},
   "outputs": [
    {
     "name": "stderr",
     "output_type": "stream",
     "text": [
      "The following columns in the training set don't have a corresponding argument in `BertForMaskedLM.forward` and have been ignored: word_ids. If word_ids are not expected by `BertForMaskedLM.forward`,  you can safely ignore this message.\n",
      "/usr/local/lib/python3.9/dist-packages/transformers/optimization.py:306: FutureWarning: This implementation of AdamW is deprecated and will be removed in a future version. Use the PyTorch implementation torch.optim.AdamW instead, or set `no_deprecation_warning=True` to disable this warning\n",
      "  warnings.warn(\n",
      "***** Running training *****\n",
      "  Num examples = 14803\n",
      "  Num Epochs = 15\n",
      "  Instantaneous batch size per device = 12\n",
      "  Total train batch size (w. parallel, distributed & accumulation) = 12\n",
      "  Gradient Accumulation steps = 1\n",
      "  Total optimization steps = 18510\n"
     ]
    },
    {
     "data": {
      "text/html": [
       "\n",
       "    <div>\n",
       "      \n",
       "      <progress value='18510' max='18510' style='width:300px; height:20px; vertical-align: middle;'></progress>\n",
       "      [18510/18510 3:50:47, Epoch 15/15]\n",
       "    </div>\n",
       "    <table border=\"1\" class=\"dataframe\">\n",
       "  <thead>\n",
       " <tr style=\"text-align: left;\">\n",
       "      <th>Epoch</th>\n",
       "      <th>Training Loss</th>\n",
       "      <th>Validation Loss</th>\n",
       "    </tr>\n",
       "  </thead>\n",
       "  <tbody>\n",
       "    <tr>\n",
       "      <td>1</td>\n",
       "      <td>4.223100</td>\n",
       "      <td>3.067340</td>\n",
       "    </tr>\n",
       "    <tr>\n",
       "      <td>2</td>\n",
       "      <td>3.185600</td>\n",
       "      <td>2.646385</td>\n",
       "    </tr>\n",
       "    <tr>\n",
       "      <td>3</td>\n",
       "      <td>2.907200</td>\n",
       "      <td>2.483813</td>\n",
       "    </tr>\n",
       "    <tr>\n",
       "      <td>4</td>\n",
       "      <td>2.743700</td>\n",
       "      <td>2.398205</td>\n",
       "    </tr>\n",
       "    <tr>\n",
       "      <td>5</td>\n",
       "      <td>2.646900</td>\n",
       "      <td>2.303165</td>\n",
       "    </tr>\n",
       "    <tr>\n",
       "      <td>6</td>\n",
       "      <td>2.584000</td>\n",
       "      <td>2.252323</td>\n",
       "    </tr>\n",
       "    <tr>\n",
       "      <td>7</td>\n",
       "      <td>2.528000</td>\n",
       "      <td>2.241017</td>\n",
       "    </tr>\n",
       "    <tr>\n",
       "      <td>8</td>\n",
       "      <td>2.488400</td>\n",
       "      <td>2.210090</td>\n",
       "    </tr>\n",
       "    <tr>\n",
       "      <td>9</td>\n",
       "      <td>2.458500</td>\n",
       "      <td>2.179126</td>\n",
       "    </tr>\n",
       "    <tr>\n",
       "      <td>10</td>\n",
       "      <td>2.426200</td>\n",
       "      <td>2.178417</td>\n",
       "    </tr>\n",
       "    <tr>\n",
       "      <td>11</td>\n",
       "      <td>2.406100</td>\n",
       "      <td>2.163431</td>\n",
       "    </tr>\n",
       "    <tr>\n",
       "      <td>12</td>\n",
       "      <td>2.389900</td>\n",
       "      <td>2.140098</td>\n",
       "    </tr>\n",
       "    <tr>\n",
       "      <td>13</td>\n",
       "      <td>2.376300</td>\n",
       "      <td>2.143870</td>\n",
       "    </tr>\n",
       "    <tr>\n",
       "      <td>14</td>\n",
       "      <td>2.363300</td>\n",
       "      <td>2.135554</td>\n",
       "    </tr>\n",
       "    <tr>\n",
       "      <td>15</td>\n",
       "      <td>2.358400</td>\n",
       "      <td>2.134234</td>\n",
       "    </tr>\n",
       "  </tbody>\n",
       "</table><p>"
      ],
      "text/plain": [
       "<IPython.core.display.HTML object>"
      ]
     },
     "metadata": {},
     "output_type": "display_data"
    },
    {
     "name": "stderr",
     "output_type": "stream",
     "text": [
      "The following columns in the evaluation set don't have a corresponding argument in `BertForMaskedLM.forward` and have been ignored: word_ids. If word_ids are not expected by `BertForMaskedLM.forward`,  you can safely ignore this message.\n",
      "***** Running Evaluation *****\n",
      "  Num examples = 1441\n",
      "  Batch size = 12\n",
      "The following columns in the evaluation set don't have a corresponding argument in `BertForMaskedLM.forward` and have been ignored: word_ids. If word_ids are not expected by `BertForMaskedLM.forward`,  you can safely ignore this message.\n",
      "***** Running Evaluation *****\n",
      "  Num examples = 1441\n",
      "  Batch size = 12\n",
      "The following columns in the evaluation set don't have a corresponding argument in `BertForMaskedLM.forward` and have been ignored: word_ids. If word_ids are not expected by `BertForMaskedLM.forward`,  you can safely ignore this message.\n",
      "***** Running Evaluation *****\n",
      "  Num examples = 1441\n",
      "  Batch size = 12\n",
      "The following columns in the evaluation set don't have a corresponding argument in `BertForMaskedLM.forward` and have been ignored: word_ids. If word_ids are not expected by `BertForMaskedLM.forward`,  you can safely ignore this message.\n",
      "***** Running Evaluation *****\n",
      "  Num examples = 1441\n",
      "  Batch size = 12\n",
      "The following columns in the evaluation set don't have a corresponding argument in `BertForMaskedLM.forward` and have been ignored: word_ids. If word_ids are not expected by `BertForMaskedLM.forward`,  you can safely ignore this message.\n",
      "***** Running Evaluation *****\n",
      "  Num examples = 1441\n",
      "  Batch size = 12\n",
      "The following columns in the evaluation set don't have a corresponding argument in `BertForMaskedLM.forward` and have been ignored: word_ids. If word_ids are not expected by `BertForMaskedLM.forward`,  you can safely ignore this message.\n",
      "***** Running Evaluation *****\n",
      "  Num examples = 1441\n",
      "  Batch size = 12\n",
      "The following columns in the evaluation set don't have a corresponding argument in `BertForMaskedLM.forward` and have been ignored: word_ids. If word_ids are not expected by `BertForMaskedLM.forward`,  you can safely ignore this message.\n",
      "***** Running Evaluation *****\n",
      "  Num examples = 1441\n",
      "  Batch size = 12\n",
      "IOPub message rate exceeded.\n",
      "The Jupyter server will temporarily stop sending output\n",
      "to the client in order to avoid crashing it.\n",
      "To change this limit, set the config variable\n",
      "`--ServerApp.iopub_msg_rate_limit`.\n",
      "\n",
      "Current values:\n",
      "ServerApp.iopub_msg_rate_limit=1000.0 (msgs/sec)\n",
      "ServerApp.rate_limit_window=3.0 (secs)\n",
      "\n",
      "The following columns in the evaluation set don't have a corresponding argument in `BertForMaskedLM.forward` and have been ignored: word_ids. If word_ids are not expected by `BertForMaskedLM.forward`,  you can safely ignore this message.\n",
      "***** Running Evaluation *****\n",
      "  Num examples = 1441\n",
      "  Batch size = 12\n",
      "The following columns in the evaluation set don't have a corresponding argument in `BertForMaskedLM.forward` and have been ignored: word_ids. If word_ids are not expected by `BertForMaskedLM.forward`,  you can safely ignore this message.\n",
      "***** Running Evaluation *****\n",
      "  Num examples = 1441\n",
      "  Batch size = 12\n",
      "The following columns in the evaluation set don't have a corresponding argument in `BertForMaskedLM.forward` and have been ignored: word_ids. If word_ids are not expected by `BertForMaskedLM.forward`,  you can safely ignore this message.\n",
      "***** Running Evaluation *****\n",
      "  Num examples = 1441\n",
      "  Batch size = 12\n",
      "The following columns in the evaluation set don't have a corresponding argument in `BertForMaskedLM.forward` and have been ignored: word_ids. If word_ids are not expected by `BertForMaskedLM.forward`,  you can safely ignore this message.\n",
      "***** Running Evaluation *****\n",
      "  Num examples = 1441\n",
      "  Batch size = 12\n",
      "The following columns in the evaluation set don't have a corresponding argument in `BertForMaskedLM.forward` and have been ignored: word_ids. If word_ids are not expected by `BertForMaskedLM.forward`,  you can safely ignore this message.\n",
      "***** Running Evaluation *****\n",
      "  Num examples = 1441\n",
      "  Batch size = 12\n",
      "The following columns in the evaluation set don't have a corresponding argument in `BertForMaskedLM.forward` and have been ignored: word_ids. If word_ids are not expected by `BertForMaskedLM.forward`,  you can safely ignore this message.\n",
      "***** Running Evaluation *****\n",
      "  Num examples = 1441\n",
      "  Batch size = 12\n",
      "The following columns in the evaluation set don't have a corresponding argument in `BertForMaskedLM.forward` and have been ignored: word_ids. If word_ids are not expected by `BertForMaskedLM.forward`,  you can safely ignore this message.\n",
      "***** Running Evaluation *****\n",
      "  Num examples = 1441\n",
      "  Batch size = 12\n",
      "\n",
      "\n",
      "Training completed. Do not forget to share your model on huggingface.co/models =)\n",
      "\n",
      "\n"
     ]
    },
    {
     "data": {
      "text/plain": [
       "TrainOutput(global_step=18510, training_loss=2.672153714229969, metrics={'train_runtime': 13847.7417, 'train_samples_per_second': 16.035, 'train_steps_per_second': 1.337, 'total_flos': 5.845682072489472e+16, 'train_loss': 2.672153714229969, 'epoch': 15.0})"
      ]
     },
     "execution_count": 18,
     "metadata": {},
     "output_type": "execute_result"
    }
   ],
   "source": [
    "trainer.train()"
   ]
  },
  {
   "cell_type": "code",
   "execution_count": 20,
   "id": "33b261d6-4bee-4110-bba8-b509f8953160",
   "metadata": {},
   "outputs": [
    {
     "name": "stderr",
     "output_type": "stream",
     "text": [
      "Saving model checkpoint to familjeliv_mlm_annotated\n",
      "Configuration saved in familjeliv_mlm_annotated/config.json\n",
      "Model weights saved in familjeliv_mlm_annotated/pytorch_model.bin\n",
      "tokenizer config file saved in familjeliv_mlm_annotated/tokenizer_config.json\n",
      "Special tokens file saved in familjeliv_mlm_annotated/special_tokens_map.json\n"
     ]
    }
   ],
   "source": [
    "trainer.save_model(\"familjeliv_mlm_annotated\")"
   ]
  },
  {
   "cell_type": "markdown",
   "id": "752bef97-d642-407a-ab52-9b8bef694797",
   "metadata": {},
   "source": [
    "Unfortunately, this seemed to reduce the models performance in the context of cross-domain scenarios."
   ]
  },
  {
   "cell_type": "markdown",
   "id": "fbcec51e-6f31-4aa4-9da7-b966672c32a8",
   "metadata": {},
   "source": [
    "## Metrics"
   ]
  },
  {
   "cell_type": "markdown",
   "id": "b8557dc5-f4a4-45d8-8548-35492fdf5ed2",
   "metadata": {},
   "source": [
    "### Baseline"
   ]
  },
  {
   "cell_type": "code",
   "execution_count": 5,
   "id": "843860f1-54a8-4a5c-a7b1-f7ea3cc95d5a",
   "metadata": {},
   "outputs": [
    {
     "data": {
      "text/plain": [
       "Dataset({\n",
       "    features: ['text', 'label'],\n",
       "    num_rows: 808\n",
       "})"
      ]
     },
     "execution_count": 5,
     "metadata": {},
     "output_type": "execute_result"
    }
   ],
   "source": [
    "flashback_testset = pd.read_csv(\"datasets/flashback_annotated_data_test_set.tsv\", sep=\"\\t\")\n",
    "flashback_testset = Dataset.from_pandas(flashback_testset)\n",
    "flashback_testset"
   ]
  },
  {
   "cell_type": "code",
   "execution_count": 6,
   "id": "aca316ce-1481-47ae-9ee9-09a4cfbd6eec",
   "metadata": {},
   "outputs": [],
   "source": [
    "baseline_metrics = MetricsWrapper(annotated_model_pipeline, flashback_testset)"
   ]
  },
  {
   "cell_type": "code",
   "execution_count": 7,
   "id": "c00c517c-6fb8-40c1-8c7f-ad5cb28026f9",
   "metadata": {},
   "outputs": [
    {
     "name": "stdout",
     "output_type": "stream",
     "text": [
      "precision: 0.79\n",
      "recall: 0.60\n",
      "f1_score: 0.68\n"
     ]
    },
    {
     "data": {
      "image/png": "[encoded data removed]",
      "text/plain": [
       "<Figure size 432x288 with 2 Axes>"
      ]
     },
     "metadata": {
      "needs_background": "light"
     },
     "output_type": "display_data"
    }
   ],
   "source": [
    "baseline_metrics.display_metrics()"
   ]
  },
  {
   "cell_type": "code",
   "execution_count": 10,
   "id": "23873c8b-db68-42da-bf57-45f733899cf7",
   "metadata": {},
   "outputs": [],
   "source": [
    "with open(\"metrics/flashback_annotated_metrics.pkl\", \"wb\") as f:\n",
    "    pickle.dump(baseline_metrics, f)"
   ]
  },
  {
   "cell_type": "markdown",
   "id": "8ae78e82-0820-49f1-bb7e-bc91f7a25797",
   "metadata": {},
   "source": [
    "### Cross-domain"
   ]
  },
  {
   "cell_type": "code",
   "execution_count": 11,
   "id": "53c9d6de-5416-488e-bff9-dcaf2ee0dff0",
   "metadata": {
    "tags": []
   },
   "outputs": [],
   "source": [
    "familjeliv_automatic_pipeline = pipeline(\n",
    "    \"text-classification\",\n",
    "    model=\"familjeliv_mlm_annotated\",\n",
    ")\n",
    "familjeliv_testset = DatasetDict.load_from_disk(\"datasets/familjeliv_testset\")"
   ]
  },
  {
   "cell_type": "code",
   "execution_count": 12,
   "id": "d864e54a-db21-445e-a857-97b504985d2a",
   "metadata": {},
   "outputs": [],
   "source": [
    "familjeliv_testset_metrics = MetricsWrapper(familjeliv_automatic_pipeline, familjeliv_testset[\"test\"])"
   ]
  },
  {
   "cell_type": "code",
   "execution_count": 15,
   "id": "52dad6de-7682-4c01-8122-c85df4e4f164",
   "metadata": {},
   "outputs": [],
   "source": [
    "with open(\"metrics/familjeliv_annotated_metrics.pkl\", \"wb\") as f:\n",
    "    pickle.dump(familjeliv_testset_metrics, f)"
   ]
  }
 ],
 "metadata": {
  "kernelspec": {
   "display_name": "Python 3 (ipykernel)",
   "language": "python",
   "name": "python3"
  },
  "language_info": {
   "codemirror_mode": {
    "name": "ipython",
    "version": 3
   },
   "file_extension": ".py",
   "mimetype": "text/x-python",
   "name": "python",
   "nbconvert_exporter": "python",
   "pygments_lexer": "ipython3",
   "version": "3.11.2"
  },
  "toc-autonumbering": false,
  "varInspector": {
   "cols": {
    "lenName": 16,
    "lenType": 16,
    "lenVar": 40
   },
   "kernels_config": {
    "python": {
     "delete_cmd_postfix": "",
     "delete_cmd_prefix": "del ",
     "library": "var_list.py",
     "varRefreshCmd": "print(var_dic_list())"
    },
    "r": {
     "delete_cmd_postfix": ") ",
     "delete_cmd_prefix": "rm(",
     "library": "var_list.r",
     "varRefreshCmd": "cat(var_dic_list()) "
    }
   },
   "types_to_exclude": [
    "module",
    "function",
    "builtin_function_or_method",
    "instance",
    "_Feature"
   ],
   "window_display": false
  }
 },
 "nbformat": 4,
 "nbformat_minor": 5
}
