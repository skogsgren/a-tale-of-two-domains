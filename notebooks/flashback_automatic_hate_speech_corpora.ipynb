{
 "cells": [
  {
   "cell_type": "markdown",
   "id": "1298e651-0b3d-496e-a1b0-cf894e919b73",
   "metadata": {},
   "source": [
    "# Automatic Hate Speech Corpus From Unannotated Data"
   ]
  },
  {
   "cell_type": "code",
   "execution_count": null,
   "id": "66dbf10b-2aaa-472c-8705-a7da8de60415",
   "metadata": {
    "tags": []
   },
   "outputs": [],
   "source": [
    "!pip3 install evaluate"
   ]
  },
  {
   "cell_type": "code",
   "execution_count": 4,
   "id": "0968de0d-3a4d-462e-a4d1-7cd8d7437340",
   "metadata": {},
   "outputs": [],
   "source": [
    "import pandas as pd\n",
    "import numpy as np\n",
    "from collections import Counter\n",
    "import re\n",
    "import sqlite3\n",
    "import math\n",
    "\n",
    "from datasets import Dataset, load_from_disk, DatasetDict\n",
    "\n",
    "from transformers import AutoTokenizer, AutoModelForSequenceClassification\n",
    "from transformers import AutoConfig\n",
    "from transformers import TrainingArguments, Trainer\n",
    "from transformers import EarlyStoppingCallback\n",
    "from transformers import pipeline\n",
    "\n",
    "from transformers import AutoModelForMaskedLM\n",
    "from transformers import DataCollatorForLanguageModeling\n",
    "from transformers import AdamW, get_scheduler\n",
    "\n",
    "import torch\n",
    "from torch import nn\n",
    "import torch.nn.functional as F\n",
    "\n",
    "import evaluate\n",
    "\n",
    "from IPython.display import display, clear_output\n",
    "\n",
    "from sklearn.feature_extraction.text import TfidfVectorizer\n",
    "from sklearn.feature_extraction.text import CountVectorizer\n",
    "\n",
    "from sklearn.pipeline import make_pipeline\n",
    "from sklearn.metrics import confusion_matrix\n",
    "from sklearn.metrics import f1_score\n",
    "from sklearn.metrics import recall_score\n",
    "from sklearn.metrics import precision_score\n",
    "\n",
    "\n",
    "from sklearn.linear_model import LogisticRegression\n",
    "from sklearn.naive_bayes import MultinomialNB\n",
    "from sklearn.svm import LinearSVC\n",
    "\n",
    "from matplotlib import pyplot as plt\n",
    "%matplotlib inline\n",
    "\n",
    "from metrics_wrapper import MetricsWrapper\n",
    "\n",
    "from sklearn.metrics import PrecisionRecallDisplay\n",
    "from sklearn.metrics import precision_recall_curve\n",
    "\n",
    "import tikzplotlib"
   ]
  },
  {
   "cell_type": "markdown",
   "id": "e44dee8d-4501-408e-8993-11d278f5332a",
   "metadata": {
    "tags": []
   },
   "source": [
    "## Importing data"
   ]
  },
  {
   "cell_type": "markdown",
   "id": "3863fe34-687d-47d0-b4ff-e4e3ff3d8802",
   "metadata": {
    "tags": []
   },
   "source": [
    "### Dev set"
   ]
  },
  {
   "cell_type": "code",
   "execution_count": 5,
   "id": "d95effa0-7eaf-42f1-8ee8-c497387274ff",
   "metadata": {},
   "outputs": [
    {
     "data": {
      "text/plain": [
       "DatasetDict({\n",
       "    train: Dataset({\n",
       "        features: ['text', 'label'],\n",
       "        num_rows: 2585\n",
       "    })\n",
       "    test: Dataset({\n",
       "        features: ['text', 'label'],\n",
       "        num_rows: 647\n",
       "    })\n",
       "})"
      ]
     },
     "execution_count": 5,
     "metadata": {},
     "output_type": "execute_result"
    }
   ],
   "source": [
    "dev_set = load_from_disk(\"datasets/flashback_annotated_dev_set\")\n",
    "dev_set"
   ]
  },
  {
   "cell_type": "markdown",
   "id": "045d3120-14fb-4972-b092-e61bf7dddf1c",
   "metadata": {
    "tags": []
   },
   "source": [
    "## Experimenting with how to define automatic annotation"
   ]
  },
  {
   "cell_type": "markdown",
   "id": "78900603-80e3-43f2-a67b-a7cf6558fed7",
   "metadata": {},
   "source": [
    "### Pow-BoW ^-^"
   ]
  },
  {
   "cell_type": "markdown",
   "id": "151429d2-f782-4487-9d1a-d8b38d2cdf5f",
   "metadata": {},
   "source": [
    "First import the tokenizer and tokenize all the data. Since `scikit`'s trainers desire the data be in strings, we need to then concatenate them together again. I just used spaces even though that results in strings like `krist ##na gå #r i Kyrk ##an`, since it is probably as close as I can get to how BERT later will handle them."
   ]
  },
  {
   "cell_type": "code",
   "execution_count": 4,
   "id": "53c5906d-8179-4af3-baa9-f16dab1d0b2b",
   "metadata": {},
   "outputs": [],
   "source": [
    "tokenizer = AutoTokenizer.from_pretrained(\"flashback_lm_model_larger_batch_size\")"
   ]
  },
  {
   "cell_type": "code",
   "execution_count": 5,
   "id": "185991cb-8883-4f65-a35b-835f2dd2bef3",
   "metadata": {},
   "outputs": [],
   "source": [
    "X_train = [tokenizer(x).tokens() for x in dev_set[\"train\"][\"text\"]]\n",
    "y_train = np.array(dev_set[\"train\"][\"label\"])\n",
    "\n",
    "X_test = np.array([' '.join(tokenizer(x).tokens()) for x in dev_set[\"test\"][\"text\"]])\n",
    "y_test = np.array(dev_set[\"test\"][\"label\"])"
   ]
  },
  {
   "cell_type": "markdown",
   "id": "676bce4d-53d5-460d-b3c5-49be1127c6ed",
   "metadata": {},
   "source": [
    "Then we need to strip the strings from stopwords and punctuation. This is done automatically via the `scikit` pipeline, but we need to define them. I just ran through the pipeline a few times and manually added some tokenizer-specific stopwords/grammatical conjugations that in testing didn't affect performance but just added unwanted noise. I then concatenated those manually added with the stopword list from `NLTK`, which improved performance slightly."
   ]
  },
  {
   "cell_type": "code",
   "execution_count": 6,
   "id": "d3a9ff4c-b273-43d9-a986-bfd9db2a2bc3",
   "metadata": {},
   "outputs": [
    {
     "name": "stderr",
     "output_type": "stream",
     "text": [
      "[nltk_data] Downloading package stopwords to /root/nltk_data...\n",
      "[nltk_data]   Package stopwords is already up-to-date!\n"
     ]
    },
    {
     "data": {
      "text/plain": [
       "True"
      ]
     },
     "execution_count": 6,
     "metadata": {},
     "output_type": "execute_result"
    }
   ],
   "source": [
    "import nltk\n",
    "from nltk.corpus import stopwords\n",
    "\n",
    "nltk.download('stopwords')"
   ]
  },
  {
   "cell_type": "code",
   "execution_count": 7,
   "id": "c7ed4fa4-154f-446c-9182-d2e27d2e1d33",
   "metadata": {},
   "outputs": [],
   "source": [
    "fb_stopwords = set(\n",
    "    [\n",
    "        \"[CLS]\",\n",
    "        \"[SEP]\",\n",
    "        \"och\",\n",
    "        \"-\",\n",
    "        \".\",\n",
    "        \",\",\n",
    "        \"så\",\n",
    "        \"är\",\n",
    "        \"en\",\n",
    "        \"för\",\n",
    "        \"när\",\n",
    "        \"bla\",\n",
    "        \"av\",\n",
    "        \"blev\",\n",
    "        \"!\",\n",
    "        \"med\",\n",
    "        \", \",\n",
    "        \"##s\",\n",
    "        \"cl\",\n",
    "        \"sep\",\n",
    "        \"#\",\n",
    "        \"[', ']\",\n",
    "        \"s\",\n",
    "        \"'\",\n",
    "        \") (\",\n",
    "        \"(\",\n",
    "        \")\",\n",
    "    ]\n",
    "    + stopwords.words('swedish')\n",
    ")"
   ]
  },
  {
   "cell_type": "markdown",
   "id": "30fbd214-88f6-4484-8358-2d560e41217b",
   "metadata": {
    "tags": []
   },
   "source": [
    "#### **BoW (i.e. CountVectorizer)**"
   ]
  },
  {
   "cell_type": "markdown",
   "id": "64e36efa-c8cd-4903-bd3c-dac5bbe49974",
   "metadata": {
    "tags": []
   },
   "source": [
    "##### BoW Hyper-Parameter Search"
   ]
  },
  {
   "cell_type": "code",
   "execution_count": 9,
   "id": "6252de21-f9a4-48fd-9390-0bb7966ef53b",
   "metadata": {},
   "outputs": [],
   "source": [
    "def bow_hyper_parameter_search(possible_c_values):\n",
    "    conf_matrices = dict()\n",
    "    f1_scores = dict()\n",
    "    try:\n",
    "        for idx, i in enumerate(possible_c_values):\n",
    "            features_pipeline = make_pipeline(\n",
    "            CountVectorizer(\n",
    "                analyzer=\"word\",\n",
    "                tokenizer=lambda x: tokenizer(x).tokens(),\n",
    "                stop_words=fb_stopwords\n",
    "            ),\n",
    "                LinearSVC(C=i)\n",
    "            )\n",
    "\n",
    "            features_pipeline.fit(dev_set[\"train\"][\"text\"], dev_set[\"train\"][\"label\"])\n",
    "            y_pred = features_pipeline.predict(X_test)\n",
    "            f1 = f1_score(y_test, y_pred)\n",
    "            f1_scores[i] = f1\n",
    "            conf_matrix = confusion_matrix(y_pred=y_pred, y_true=y_test)\n",
    "            conf_matrices[i] = conf_matrix\n",
    "\n",
    "            clear_output(wait=True)\n",
    "\n",
    "            plt.figure(figsize=(10, 5))\n",
    "            plt.title('C value search')\n",
    "            plt.plot(possible_c_values[:idx+1], f1_scores.values())\n",
    "            plt.scatter(possible_c_values[:idx+1], f1_scores.values())\n",
    "            plt.xlabel('C')\n",
    "            plt.ylabel('f1')\n",
    "            display(plt.gcf())\n",
    "            plt.close('all')\n",
    "\n",
    "            print(conf_matrix)\n",
    "    except KeyboardInterrupt:\n",
    "        pass\n",
    "    return (f1_scores, conf_matrices)"
   ]
  },
  {
   "cell_type": "code",
   "execution_count": 10,
   "id": "ce23c992-d34d-464b-93e2-c631cc53506d",
   "metadata": {},
   "outputs": [
    {
     "data": {
      "image/png": "[encoded data removed]",
      "text/plain": [
       "<Figure size 720x360 with 1 Axes>"
      ]
     },
     "metadata": {},
     "output_type": "display_data"
    },
    {
     "name": "stdout",
     "output_type": "stream",
     "text": [
      "[[411  85]\n",
      " [ 90  61]]\n"
     ]
    }
   ],
   "source": [
    "f1_scores, conf_matrices = bow_hyper_parameter_search([10**i for i in range(-5,5)])"
   ]
  },
  {
   "cell_type": "code",
   "execution_count": 11,
   "id": "0b3b3029-2e07-4e44-9ec4-41ac177a52ba",
   "metadata": {},
   "outputs": [
    {
     "data": {
      "text/plain": [
       "{1e-05: 0.0,\n",
       " 0.0001: 0.0,\n",
       " 0.001: 0.03726708074534162,\n",
       " 0.01: 0.2843137254901961,\n",
       " 0.1: 0.4044943820224719,\n",
       " 1: 0.4192439862542955,\n",
       " 10: 0.42763157894736836,\n",
       " 100: 0.40939597315436244,\n",
       " 1000: 0.4107744107744108,\n",
       " 10000: 0.4107744107744108}"
      ]
     },
     "execution_count": 11,
     "metadata": {},
     "output_type": "execute_result"
    }
   ],
   "source": [
    "f1_scores"
   ]
  },
  {
   "cell_type": "markdown",
   "id": "628e1a1b-0854-4871-b866-78f749c0dcfb",
   "metadata": {},
   "source": [
    "Performance seems to be best in the range between $1$ and $10$, so lets search for a more fine-grained value for $C$:"
   ]
  },
  {
   "cell_type": "code",
   "execution_count": 12,
   "id": "b731074d-7f75-47de-b32c-91b2f20a216c",
   "metadata": {},
   "outputs": [
    {
     "data": {
      "image/png": "[encoded data removed]",
      "text/plain": [
       "<Figure size 720x360 with 1 Axes>"
      ]
     },
     "metadata": {},
     "output_type": "display_data"
    },
    {
     "name": "stdout",
     "output_type": "stream",
     "text": [
      "[[408  88]\n",
      " [ 86  65]]\n"
     ]
    }
   ],
   "source": [
    "f1_scores, conf_matrices = bow_hyper_parameter_search([x/10 for x in range(1, 101)])"
   ]
  },
  {
   "cell_type": "code",
   "execution_count": 15,
   "id": "9c81ae1a-dd8a-4809-9c17-41876578c980",
   "metadata": {},
   "outputs": [
    {
     "data": {
      "text/plain": [
       "{2.0: 0.43478260869565216,\n",
       " 1.7: 0.43478260869565216,\n",
       " 2.1: 0.43333333333333335,\n",
       " 1.9: 0.43333333333333335,\n",
       " 1.8: 0.43333333333333335,\n",
       " 2.2: 0.4318936877076412,\n",
       " 1.6: 0.42953020134228187,\n",
       " 1.1: 0.4285714285714286,\n",
       " 10.0: 0.42763157894736836,\n",
       " 9.9: 0.42763157894736836}"
      ]
     },
     "execution_count": 15,
     "metadata": {},
     "output_type": "execute_result"
    }
   ],
   "source": [
    "dict(list(reversed(sorted(f1_scores.items(), key=lambda item: item[1])))[:10])"
   ]
  },
  {
   "cell_type": "markdown",
   "id": "a607f5a8-1f43-45e6-b297-3353041e0f9b",
   "metadata": {
    "tags": []
   },
   "source": [
    "##### BoW Pipeline"
   ]
  },
  {
   "cell_type": "code",
   "execution_count": 16,
   "id": "5510cc9b-6cf2-4650-bdc9-5f6a0033625b",
   "metadata": {},
   "outputs": [
    {
     "name": "stderr",
     "output_type": "stream",
     "text": [
      "/usr/local/lib/python3.9/dist-packages/sklearn/feature_extraction/text.py:404: UserWarning: Your stop_words may be inconsistent with your preprocessing. Tokenizing the stop words generated tokens ['[', ']'] not in stop_words.\n",
      "  warnings.warn(\n"
     ]
    },
    {
     "name": "stdout",
     "output_type": "stream",
     "text": [
      "f1: 0.43478260869565216\n",
      "confusion matrix:\n",
      "\t[413  83]\n",
      "\t[86 65]\n"
     ]
    }
   ],
   "source": [
    "bow_pipeline = make_pipeline(\n",
    "    CountVectorizer(\n",
    "        analyzer=\"word\",\n",
    "        tokenizer=lambda x: tokenizer(x).tokens(),\n",
    "        stop_words=fb_stopwords\n",
    "    ),\n",
    "    LinearSVC(C=2)\n",
    ")\n",
    "\n",
    "bow_pipeline.fit(dev_set[\"train\"][\"text\"], dev_set[\"train\"][\"label\"])\n",
    "bow_y_pred = bow_pipeline.predict(X_test)\n",
    "conf_matrix = confusion_matrix(y_pred=bow_y_pred, y_true=y_test)\n",
    "\n",
    "print(f\"f1: {f1_score(y_test, bow_y_pred)}\")\n",
    "print(f\"confusion matrix:\\n\\t{conf_matrix[0]}\\n\\t{conf_matrix[1]}\")"
   ]
  },
  {
   "cell_type": "markdown",
   "id": "6b99c527-0159-400d-a5f8-c8f856979833",
   "metadata": {
    "tags": []
   },
   "source": [
    "#### **TF-IDF**"
   ]
  },
  {
   "cell_type": "markdown",
   "id": "4dc17f62-bb6f-4532-8f5c-86d782b33422",
   "metadata": {
    "tags": []
   },
   "source": [
    "##### TF-IDF Hyper-parameter search"
   ]
  },
  {
   "cell_type": "code",
   "execution_count": 17,
   "id": "9f183eeb-36d3-4779-abc9-958d783475b0",
   "metadata": {
    "tags": []
   },
   "outputs": [],
   "source": [
    "def tf_idf_hyper_parameter_search(possible_c_values):\n",
    "    conf_matrices = dict()\n",
    "    f1_scores = dict()\n",
    "    try:\n",
    "        for idx, i in enumerate(possible_c_values):\n",
    "            features_pipeline = make_pipeline(\n",
    "                TfidfVectorizer(\n",
    "                    analyzer=\"word\",\n",
    "                    ngram_range=(1, 6),\n",
    "                    tokenizer=lambda x: tokenizer(x).tokens(),\n",
    "                    stop_words=fb_stopwords\n",
    "                ),\n",
    "                LinearSVC(C=i)\n",
    "            )\n",
    "\n",
    "            features_pipeline.fit(dev_set[\"train\"][\"text\"], dev_set[\"train\"][\"label\"])\n",
    "            y_pred = features_pipeline.predict(X_test)\n",
    "            f1 = f1_score(y_test, y_pred)\n",
    "            f1_scores[i] = f1\n",
    "            conf_matrix = confusion_matrix(y_pred=y_pred, y_true=y_test)\n",
    "            conf_matrices[i] = conf_matrix\n",
    "\n",
    "            clear_output(wait=True)\n",
    "\n",
    "            plt.figure(figsize=(10, 5))\n",
    "            plt.title('C value search')\n",
    "            plt.plot(possible_c_values[:idx+1], f1_scores.values())\n",
    "            plt.scatter(possible_c_values[:idx+1], f1_scores.values())\n",
    "            plt.xlabel('C')\n",
    "            plt.ylabel('f1')\n",
    "            display(plt.gcf())\n",
    "            plt.close('all')\n",
    "\n",
    "            print(conf_matrix)\n",
    "    except KeyboardInterrupt:\n",
    "        pass\n",
    "    return (f1_scores, conf_matrices)"
   ]
  },
  {
   "cell_type": "code",
   "execution_count": 18,
   "id": "e7f2be2c-229b-481c-b1a6-257a52baa217",
   "metadata": {},
   "outputs": [
    {
     "data": {
      "image/png": "[encoded data removed]",
      "text/plain": [
       "<Figure size 720x360 with 1 Axes>"
      ]
     },
     "metadata": {},
     "output_type": "display_data"
    },
    {
     "name": "stdout",
     "output_type": "stream",
     "text": [
      "[[369 127]\n",
      " [ 73  78]]\n"
     ]
    }
   ],
   "source": [
    "f1_scores, conf_matrices = tf_idf_hyper_parameter_search([10**i for i in range(-5,5)])"
   ]
  },
  {
   "cell_type": "code",
   "execution_count": 19,
   "id": "a3cc464d-d922-4841-8e63-ad1274199ea6",
   "metadata": {},
   "outputs": [
    {
     "data": {
      "text/plain": [
       "{1e-05: 0.0,\n",
       " 0.0001: 0.0,\n",
       " 0.001: 0.0,\n",
       " 0.01: 0.0,\n",
       " 0.1: 0.0,\n",
       " 1: 0.18181818181818182,\n",
       " 10: 0.3605150214592274,\n",
       " 100: 0.4328358208955224,\n",
       " 1000: 0.4398826979472141,\n",
       " 10000: 0.4382022471910112}"
      ]
     },
     "execution_count": 19,
     "metadata": {},
     "output_type": "execute_result"
    }
   ],
   "source": [
    "f1_scores"
   ]
  },
  {
   "cell_type": "markdown",
   "id": "9ae0373c-b7dc-4dc1-9edc-2555a83ec515",
   "metadata": {},
   "source": [
    "We see that the highest scores are from $10 \\rightarrow 100$. I suspect that it plateaus around there, so lets perform a more fine grained search in that interval."
   ]
  },
  {
   "cell_type": "code",
   "execution_count": 20,
   "id": "aaa505ed-c47e-434e-954d-98c73d881e8d",
   "metadata": {},
   "outputs": [
    {
     "data": {
      "image/png": "[encoded data removed]",
      "text/plain": [
       "<Figure size 720x360 with 1 Axes>"
      ]
     },
     "metadata": {},
     "output_type": "display_data"
    },
    {
     "name": "stdout",
     "output_type": "stream",
     "text": [
      "[[437  59]\n",
      " [ 93  58]]\n"
     ]
    }
   ],
   "source": [
    "f1_scores, conf_matrices = tf_idf_hyper_parameter_search([5 + x*5 for x in range(1, 20)])"
   ]
  },
  {
   "cell_type": "code",
   "execution_count": 22,
   "id": "c36775e6-99c0-4d08-8317-1af53f0f04d3",
   "metadata": {},
   "outputs": [
    {
     "data": {
      "text/plain": [
       "{55: 0.44531249999999994,\n",
       " 60: 0.4418604651162791,\n",
       " 65: 0.4401544401544401,\n",
       " 70: 0.43678160919540227,\n",
       " 75: 0.43511450381679384,\n",
       " 80: 0.43346007604562736,\n",
       " 100: 0.4328358208955224,\n",
       " 85: 0.4318181818181818,\n",
       " 90: 0.43018867924528303,\n",
       " 50: 0.42857142857142855}"
      ]
     },
     "execution_count": 22,
     "metadata": {},
     "output_type": "execute_result"
    }
   ],
   "source": [
    "dict(list(reversed(sorted(f1_scores.items(), key=lambda item: item[1])))[:10])"
   ]
  },
  {
   "cell_type": "markdown",
   "id": "53489e07-87b8-428b-a005-bf3fcf8338ba",
   "metadata": {},
   "source": [
    "Let's do one last search, this time even more fine grained, in the interval $50 \\rightarrow 75$"
   ]
  },
  {
   "cell_type": "code",
   "execution_count": 24,
   "id": "d817a4fa-94b0-461c-a7e1-700188884d0f",
   "metadata": {},
   "outputs": [
    {
     "data": {
      "image/png": "[encoded data removed]",
      "text/plain": [
       "<Figure size 720x360 with 1 Axes>"
      ]
     },
     "metadata": {},
     "output_type": "display_data"
    },
    {
     "name": "stdout",
     "output_type": "stream",
     "text": [
      "[[442  54]\n",
      " [ 94  57]]\n"
     ]
    }
   ],
   "source": [
    "f1_scores, conf_matrices = tf_idf_hyper_parameter_search([x for x in range(50, 75)])"
   ]
  },
  {
   "cell_type": "code",
   "execution_count": 25,
   "id": "4cf64bb3-e957-45f4-9be0-e6534bd15b65",
   "metadata": {},
   "outputs": [
    {
     "data": {
      "text/plain": [
       "{56: 0.44531249999999994,\n",
       " 55: 0.44531249999999994,\n",
       " 64: 0.4418604651162791,\n",
       " 63: 0.4418604651162791,\n",
       " 62: 0.4418604651162791,\n",
       " 61: 0.4418604651162791,\n",
       " 60: 0.4418604651162791,\n",
       " 59: 0.4418604651162791,\n",
       " 58: 0.4418604651162791,\n",
       " 57: 0.4418604651162791}"
      ]
     },
     "execution_count": 25,
     "metadata": {},
     "output_type": "execute_result"
    }
   ],
   "source": [
    "dict(list(reversed(sorted(f1_scores.items(), key=lambda item: item[1])))[:10])"
   ]
  },
  {
   "cell_type": "markdown",
   "id": "79662f2a-e295-4792-b143-9d72939d2c56",
   "metadata": {
    "tags": []
   },
   "source": [
    "##### TF-IDF Pipeline"
   ]
  },
  {
   "cell_type": "code",
   "execution_count": 8,
   "id": "ab412a9a-ff16-41a2-a2ac-24c6cf856a86",
   "metadata": {},
   "outputs": [
    {
     "name": "stderr",
     "output_type": "stream",
     "text": [
      "/usr/local/lib/python3.9/dist-packages/sklearn/feature_extraction/text.py:404: UserWarning: Your stop_words may be inconsistent with your preprocessing. Tokenizing the stop words generated tokens ['[', ']'] not in stop_words.\n",
      "  warnings.warn(\n"
     ]
    },
    {
     "name": "stdout",
     "output_type": "stream",
     "text": [
      "f1: 0.44531249999999994\n",
      "confusion matrix:\n",
      "\t[448  48]\n",
      "\t[94 57]\n",
      "precision:\n",
      "\t0.5428571428571428\n",
      "recall:\n",
      "\t0.37748344370860926\n"
     ]
    }
   ],
   "source": [
    "tfidf_pipeline = make_pipeline(\n",
    "    TfidfVectorizer(\n",
    "        analyzer=\"word\",\n",
    "        ngram_range=(1, 6),\n",
    "        tokenizer=lambda x: tokenizer(x).tokens(),\n",
    "        stop_words=fb_stopwords\n",
    "    ),\n",
    "    LinearSVC(C=55)\n",
    ")\n",
    "\n",
    "tfidf_pipeline.fit(dev_set[\"train\"][\"text\"], dev_set[\"train\"][\"label\"])\n",
    "tfidf_pipeline_y_pred = tfidf_pipeline.predict(X_test)\n",
    "conf_matrix = confusion_matrix(y_pred=tfidf_pipeline_y_pred, y_true=y_test)\n",
    "\n",
    "print(f\"f1: {f1_score(y_test, tfidf_pipeline_y_pred)}\")\n",
    "print(f\"confusion matrix:\\n\\t{conf_matrix[0]}\\n\\t{conf_matrix[1]}\")\n",
    "print(f\"precision:\\n\\t{precision_score(y_test, tfidf_pipeline_y_pred)}\")\n",
    "print(f\"recall:\\n\\t{recall_score(y_test, tfidf_pipeline_y_pred)}\")"
   ]
  },
  {
   "cell_type": "markdown",
   "id": "64e9ab32-1bf8-4522-9309-1e7f5092210d",
   "metadata": {
    "tags": []
   },
   "source": [
    "#### **Going through top features**"
   ]
  },
  {
   "cell_type": "markdown",
   "id": "c28e1b88-3d81-49a4-af2e-67424b313ace",
   "metadata": {
    "tags": []
   },
   "source": [
    "##### **TF-IDF**"
   ]
  },
  {
   "cell_type": "code",
   "execution_count": 9,
   "id": "2a335e9d-4d5b-4300-ab69-3d4ec4798f2d",
   "metadata": {
    "tags": []
   },
   "outputs": [
    {
     "name": "stdout",
     "output_type": "stream",
     "text": [
      "##a\n",
      "##er\n",
      "feminist\n",
      "precis vill\n",
      "##r\n",
      "dom\n",
      "vita\n",
      "fan\n",
      "##ar\n",
      "##n\n",
      "muslimer\n",
      "nivå\n",
      "paras\n",
      "jävla\n",
      "##k\n",
      "andra\n",
      "svenska\n",
      "kvinnor\n",
      "##are\n",
      "sverige\n",
      "##tte\n",
      "##t\n",
      "##aner\n",
      "##ad\n",
      "vill\n"
     ]
    }
   ],
   "source": [
    "features = tfidf_pipeline[0].get_feature_names_out()\n",
    "\n",
    "for i in np.array(tfidf_pipeline._final_estimator.coef_[0]).argsort()[-25:][::-1]:\n",
    "    print(features[i])"
   ]
  },
  {
   "cell_type": "code",
   "execution_count": 10,
   "id": "3b619347-889c-4543-8a2d-284349ac9af9",
   "metadata": {},
   "outputs": [
    {
     "data": {
      "text/plain": [
       "array([[448,  48],\n",
       "       [ 94,  57]])"
      ]
     },
     "execution_count": 10,
     "metadata": {},
     "output_type": "execute_result"
    }
   ],
   "source": [
    "conf_matrix = confusion_matrix(y_pred=tfidf_pipeline.predict(X_test), y_true=y_test)\n",
    "conf_matrix"
   ]
  },
  {
   "cell_type": "markdown",
   "id": "04e56948-44ce-42b2-8003-b593af6b45b9",
   "metadata": {
    "tags": []
   },
   "source": [
    "##### **BoW**"
   ]
  },
  {
   "cell_type": "code",
   "execution_count": 47,
   "id": "02492614-b1cb-4b8f-90a1-33563470b77e",
   "metadata": {},
   "outputs": [
    {
     "name": "stdout",
     "output_type": "stream",
     "text": [
      "nivå\n",
      "brinna\n",
      "tyst\n",
      "skedde\n",
      "svin\n",
      "##iz\n",
      "äger\n",
      "paras\n",
      "##iterna\n",
      "tomte\n",
      "##tte\n",
      "##rass\n",
      "dum\n",
      "precis\n",
      "gifter\n",
      "mm\n",
      "sänka\n",
      "mkt\n",
      "##pi\n",
      "håll\n",
      "smyg\n",
      "bekräftar\n",
      "##tavla\n",
      "mum\n",
      "kloka\n"
     ]
    }
   ],
   "source": [
    "features = bow_pipeline[0].get_feature_names_out()\n",
    "\n",
    "for i in np.array(bow_pipeline._final_estimator.coef_[0]).argsort()[-25:][::-1]:\n",
    "    print(features[i])"
   ]
  },
  {
   "cell_type": "code",
   "execution_count": 48,
   "id": "15a3fb0b-a492-448f-91b9-eb937d7daf10",
   "metadata": {},
   "outputs": [
    {
     "data": {
      "text/plain": [
       "array([[413,  83],\n",
       "       [ 86,  65]])"
      ]
     },
     "execution_count": 48,
     "metadata": {},
     "output_type": "execute_result"
    }
   ],
   "source": [
    "conf_matrix = confusion_matrix(y_pred=bow_pipeline.predict(X_test), y_true=y_test)\n",
    "conf_matrix"
   ]
  },
  {
   "cell_type": "markdown",
   "id": "cb19d03f-2a45-4915-bf06-ae81486caca7",
   "metadata": {
    "tags": []
   },
   "source": [
    "### Testset metrics\n",
    "\n",
    "These are the calculations necessary to derive the metrics for the testset. These weren't performed until every part of the experimentation was done, meaning that I didn't use the testset to optimize hyperparameters for the SVM."
   ]
  },
  {
   "cell_type": "code",
   "execution_count": 9,
   "id": "551e0403-2a09-42e9-a299-09bce24221b2",
   "metadata": {},
   "outputs": [
    {
     "data": {
      "text/plain": [
       "Dataset({\n",
       "    features: ['text', 'label'],\n",
       "    num_rows: 808\n",
       "})"
      ]
     },
     "execution_count": 9,
     "metadata": {},
     "output_type": "execute_result"
    }
   ],
   "source": [
    "flashback_testset = pd.read_csv(\"datasets/flashback_annotated_data_test_set.tsv\", sep=\"\\t\")\n",
    "flashback_testset = Dataset.from_pandas(flashback_testset)\n",
    "flashback_testset"
   ]
  },
  {
   "cell_type": "code",
   "execution_count": 10,
   "id": "ec58f7ee-f3fc-4e84-9fde-444082765fcc",
   "metadata": {},
   "outputs": [],
   "source": [
    "flashback_testset_y_pred = tfidf_pipeline.predict(flashback_testset[\"text\"])"
   ]
  },
  {
   "cell_type": "code",
   "execution_count": 11,
   "id": "a0e81b87-806f-4552-b48c-8e60f4e822f3",
   "metadata": {},
   "outputs": [
    {
     "name": "stdout",
     "output_type": "stream",
     "text": [
      "f1: 0.4702702702702703\n",
      "confusion matrix:\n",
      "\t[525  94]\n",
      "\t[102  87]\n",
      "precision:\n",
      "\t0.48066298342541436\n",
      "recall:\n",
      "\t0.4603174603174603\n"
     ]
    }
   ],
   "source": [
    "conf_matrix = confusion_matrix(y_pred=flashback_testset_y_pred, y_true=flashback_testset['label'])\n",
    "print(f\"f1: {f1_score(flashback_testset['label'], flashback_testset_y_pred)}\")\n",
    "print(f\"confusion matrix:\\n\\t{conf_matrix[0]}\\n\\t{conf_matrix[1]}\")\n",
    "print(f\"precision:\\n\\t{precision_score(flashback_testset['label'], flashback_testset_y_pred)}\")\n",
    "print(f\"recall:\\n\\t{recall_score(flashback_testset['label'], flashback_testset_y_pred)}\")"
   ]
  },
  {
   "cell_type": "markdown",
   "id": "cfe6a213-7495-4027-888f-8e82b2833cd2",
   "metadata": {
    "tags": []
   },
   "source": [
    "## Applying to large pool of unannotated data"
   ]
  },
  {
   "cell_type": "markdown",
   "id": "e13dd5e7-1466-4148-b286-7656bbadd135",
   "metadata": {
    "tags": []
   },
   "source": [
    "### Importing unannotated data\n",
    "\n",
    "Since we don't want our training set to have anything to do with our dev or test set, let's first import the test set, and then use a boolean slice to remove those rows from our large pool of unannotated data."
   ]
  },
  {
   "cell_type": "code",
   "execution_count": 9,
   "id": "7a3bad04-d577-4006-87e1-eccb4641e46a",
   "metadata": {},
   "outputs": [
    {
     "name": "stderr",
     "output_type": "stream",
     "text": [
      "Using custom data configuration default-e3332014f9c6d905\n"
     ]
    },
    {
     "name": "stdout",
     "output_type": "stream",
     "text": [
      "Downloading and preparing dataset csv/default to /root/.cache/huggingface/datasets/csv/default-e3332014f9c6d905/0.0.0...\n"
     ]
    },
    {
     "data": {
      "application/vnd.jupyter.widget-view+json": {
       "model_id": "8c973c59e9a849368c0b11922e1f754d",
       "version_major": 2,
       "version_minor": 0
      },
      "text/plain": [
       "Downloading data files:   0%|          | 0/1 [00:00<?, ?it/s]"
      ]
     },
     "metadata": {},
     "output_type": "display_data"
    },
    {
     "data": {
      "application/vnd.jupyter.widget-view+json": {
       "model_id": "3b9e45c024934971a2ad8b3b228d7dbd",
       "version_major": 2,
       "version_minor": 0
      },
      "text/plain": [
       "Extracting data files:   0%|          | 0/1 [00:00<?, ?it/s]"
      ]
     },
     "metadata": {},
     "output_type": "display_data"
    },
    {
     "data": {
      "application/vnd.jupyter.widget-view+json": {
       "model_id": "",
       "version_major": 2,
       "version_minor": 0
      },
      "text/plain": [
       "0 tables [00:00, ? tables/s]"
      ]
     },
     "metadata": {},
     "output_type": "display_data"
    },
    {
     "name": "stdout",
     "output_type": "stream",
     "text": [
      "Dataset csv downloaded and prepared to /root/.cache/huggingface/datasets/csv/default-e3332014f9c6d905/0.0.0. Subsequent calls will reuse this data.\n"
     ]
    }
   ],
   "source": [
    "testset = Dataset.from_csv(\"datasets/flashback_annotated_data_test_set.tsv\", sep=\"\\t\")\n",
    "dev_test_text_arr = testset[\"text\"] + dev_set[\"test\"][\"text\"]"
   ]
  },
  {
   "cell_type": "code",
   "execution_count": null,
   "id": "1696262c-890d-4346-9ad7-ffb174e37d99",
   "metadata": {},
   "outputs": [],
   "source": [
    "pool_df = pd.read_csv(\"data/flashback_raw.tsv\", index_col=0, sep=\"\\t\")\n",
    "pool_df = pool_df[~pool_df[\"text\"].isin(dev_test_text_arr)]"
   ]
  },
  {
   "cell_type": "markdown",
   "id": "7a422e29-2328-4006-beda-7025cee2dfea",
   "metadata": {},
   "source": [
    "This is too big to experiment on, however, so let's downsample it a bit:"
   ]
  },
  {
   "cell_type": "code",
   "execution_count": null,
   "id": "053b3a38-3848-4a47-8e27-60f00f041a28",
   "metadata": {},
   "outputs": [],
   "source": [
    "pool_df = pool_df.sample(frac = 1, random_state = 666).reset_index(drop=True) # shuffle dataframe\n",
    "pool_df = pool_df[:20000]"
   ]
  },
  {
   "cell_type": "code",
   "execution_count": null,
   "id": "831d8015-0bb9-44af-9d7b-71fb9d162e83",
   "metadata": {},
   "outputs": [],
   "source": [
    "tmp_df = pool_df.copy()\n",
    "pred = tfidf_pipeline.predict(tmp_df[\"text\"].to_numpy())\n",
    "tmp_df[\"label\"] = pred"
   ]
  },
  {
   "cell_type": "markdown",
   "id": "a8946cca-d575-460f-83d0-f3cf03e17897",
   "metadata": {
    "tags": []
   },
   "source": [
    "### Looking into proportion of HS/non-HS for automatically derived data"
   ]
  },
  {
   "cell_type": "code",
   "execution_count": 16,
   "id": "ba53caa6-62be-46fb-8742-f9131a20dd03",
   "metadata": {},
   "outputs": [],
   "source": [
    "dev_df = tmp_df.copy()"
   ]
  },
  {
   "cell_type": "code",
   "execution_count": 41,
   "id": "fab9b587-4c67-4d01-ae1f-1b2ebe80daa2",
   "metadata": {},
   "outputs": [],
   "source": [
    "def calc_proportion(df):\n",
    "    counts = df[\"label\"].value_counts()\n",
    "    return round((counts[1] / len(df)), 5)\n",
    "\n",
    "\n",
    "def split_dataset(df, hs):\n",
    "    counts = df[\"label\"].value_counts()\n",
    "    total = counts[1]/hs\n",
    "    if (total - counts[1]) < counts[0]: # drop rows from label 0\n",
    "        desired_label = 0\n",
    "        n = int(counts[0] - (total - counts[1]))\n",
    "    else: # drop rows from label 1\n",
    "        desired_label = 1\n",
    "        n = int(counts[1] - ((counts[0]/(1-hs)) - counts[0]))     \n",
    "    df = df.drop(df.loc[df['label'] == desired_label].head(n).index).reset_index(drop=True)\n",
    "    print(f\"{calc_proportion(df)}% HS\")\n",
    "    print(df[\"label\"].value_counts())\n",
    "    return df"
   ]
  },
  {
   "cell_type": "code",
   "execution_count": 98,
   "id": "8c08e9f1-d87c-4308-966e-92523a1a70e7",
   "metadata": {},
   "outputs": [
    {
     "name": "stdout",
     "output_type": "stream",
     "text": [
      "0.33% HS\n",
      "0    25298\n",
      "1    12460\n",
      "Name: label, dtype: int64\n"
     ]
    }
   ],
   "source": [
    "tmp_df = split_dataset(dev_df, 0.33)"
   ]
  },
  {
   "cell_type": "markdown",
   "id": "d6fe4df0-4d5d-45a1-872c-a99d12804d33",
   "metadata": {},
   "source": [
    "### Training BERT using automatically annotated data"
   ]
  },
  {
   "cell_type": "code",
   "execution_count": 13,
   "id": "f4257c13-9863-4a07-9a26-6419fc82e053",
   "metadata": {},
   "outputs": [
    {
     "data": {
      "text/plain": [
       "DatasetDict({\n",
       "    train: Dataset({\n",
       "        features: ['text', 'label'],\n",
       "        num_rows: 20000\n",
       "    })\n",
       "    test: Dataset({\n",
       "        features: ['text', 'label'],\n",
       "        num_rows: 647\n",
       "    })\n",
       "})"
      ]
     },
     "execution_count": 13,
     "metadata": {},
     "output_type": "execute_result"
    }
   ],
   "source": [
    "tmp_dataset = DatasetDict({\n",
    "    \"train\": Dataset.from_pandas(tmp_df),\n",
    "    \"test\": dev_set[\"test\"]\n",
    "})\n",
    "tmp_dataset"
   ]
  },
  {
   "cell_type": "markdown",
   "id": "d09eaf53-6334-4fc7-9ee1-016a41018afd",
   "metadata": {},
   "source": [
    "### Training model"
   ]
  },
  {
   "cell_type": "code",
   "execution_count": 14,
   "id": "e03f0901-e5e1-4f5e-8950-8a7f4df8f4b7",
   "metadata": {},
   "outputs": [
    {
     "name": "stderr",
     "output_type": "stream",
     "text": [
      "Some weights of the model checkpoint at flashback_lm_model_larger_batch_size were not used when initializing BertForSequenceClassification: ['cls.predictions.transform.LayerNorm.weight', 'cls.predictions.decoder.bias', 'cls.predictions.transform.dense.weight', 'cls.predictions.transform.dense.bias', 'cls.predictions.decoder.weight', 'cls.predictions.bias', 'cls.predictions.transform.LayerNorm.bias']\n",
      "- This IS expected if you are initializing BertForSequenceClassification from the checkpoint of a model trained on another task or with another architecture (e.g. initializing a BertForSequenceClassification model from a BertForPreTraining model).\n",
      "- This IS NOT expected if you are initializing BertForSequenceClassification from the checkpoint of a model that you expect to be exactly identical (initializing a BertForSequenceClassification model from a BertForSequenceClassification model).\n",
      "Some weights of BertForSequenceClassification were not initialized from the model checkpoint at flashback_lm_model_larger_batch_size and are newly initialized: ['bert.pooler.dense.weight', 'bert.pooler.dense.bias', 'classifier.bias', 'classifier.weight']\n",
      "You should probably TRAIN this model on a down-stream task to be able to use it for predictions and inference.\n"
     ]
    },
    {
     "data": {
      "text/plain": [
       "BertConfig {\n",
       "  \"_name_or_path\": \"flashback_lm_model_larger_batch_size\",\n",
       "  \"architectures\": [\n",
       "    \"BertForMaskedLM\"\n",
       "  ],\n",
       "  \"attention_probs_dropout_prob\": 0.2,\n",
       "  \"classifier_dropout\": null,\n",
       "  \"gradient_checkpointing\": false,\n",
       "  \"hidden_act\": \"gelu\",\n",
       "  \"hidden_dropout_prob\": 0.2,\n",
       "  \"hidden_size\": 768,\n",
       "  \"initializer_range\": 0.02,\n",
       "  \"intermediate_size\": 3072,\n",
       "  \"layer_norm_eps\": 1e-12,\n",
       "  \"max_position_embeddings\": 512,\n",
       "  \"model_type\": \"bert\",\n",
       "  \"num_attention_heads\": 12,\n",
       "  \"num_hidden_layers\": 12,\n",
       "  \"output_past\": true,\n",
       "  \"pad_token_id\": 0,\n",
       "  \"position_embedding_type\": \"absolute\",\n",
       "  \"torch_dtype\": \"float32\",\n",
       "  \"transformers_version\": \"4.20.1\",\n",
       "  \"type_vocab_size\": 2,\n",
       "  \"use_cache\": true,\n",
       "  \"vocab_size\": 50325\n",
       "}"
      ]
     },
     "execution_count": 14,
     "metadata": {},
     "output_type": "execute_result"
    }
   ],
   "source": [
    "configuration = AutoConfig.from_pretrained(\"flashback_lm_model_larger_batch_size\")\n",
    "configuration.hidden_dropout_prob = 0.2\n",
    "configuration.attention_probs_dropout_prob = 0.2\n",
    "masked_lm_checkpoint = AutoModelForSequenceClassification.from_pretrained(\n",
    "    \"flashback_lm_model_larger_batch_size\",\n",
    "    config=configuration\n",
    ")\n",
    "tokenizer = AutoTokenizer.from_pretrained(\"flashback_lm_model_larger_batch_size\")\n",
    "tokenizer.model_max_length = 512  # since this is incorrectly set in KB's model\n",
    "\n",
    "configuration"
   ]
  },
  {
   "cell_type": "code",
   "execution_count": 15,
   "id": "f27b4934-6019-434e-8ca7-b399faa562e9",
   "metadata": {},
   "outputs": [
    {
     "name": "stderr",
     "output_type": "stream",
     "text": [
      "Parameter 'function'=<function tokenize_function at 0x7fadec4b2af0> of the transform datasets.arrow_dataset.Dataset._map_single couldn't be hashed properly, a random hash was used instead. Make sure your transforms and parameters are serializable with pickle or dill for the dataset fingerprinting and caching to work. If you reuse this transform, the caching mechanism will consider it to be different from the previous calls and recompute everything. This warning is only showed once. Subsequent hashing failures won't be showed.\n"
     ]
    },
    {
     "data": {
      "application/vnd.jupyter.widget-view+json": {
       "model_id": "a7cf5037a5304224b85631d86da1c9d1",
       "version_major": 2,
       "version_minor": 0
      },
      "text/plain": [
       "  0%|          | 0/20 [00:00<?, ?ba/s]"
      ]
     },
     "metadata": {},
     "output_type": "display_data"
    },
    {
     "data": {
      "application/vnd.jupyter.widget-view+json": {
       "model_id": "0a304f072e56409998bea9d148f7086f",
       "version_major": 2,
       "version_minor": 0
      },
      "text/plain": [
       "  0%|          | 0/1 [00:00<?, ?ba/s]"
      ]
     },
     "metadata": {},
     "output_type": "display_data"
    },
    {
     "data": {
      "text/plain": [
       "DatasetDict({\n",
       "    train: Dataset({\n",
       "        features: ['text', 'label', 'input_ids', 'token_type_ids', 'attention_mask'],\n",
       "        num_rows: 20000\n",
       "    })\n",
       "    test: Dataset({\n",
       "        features: ['text', 'label', 'input_ids', 'token_type_ids', 'attention_mask'],\n",
       "        num_rows: 647\n",
       "    })\n",
       "})"
      ]
     },
     "execution_count": 15,
     "metadata": {},
     "output_type": "execute_result"
    }
   ],
   "source": [
    "def tokenize_function(examples):\n",
    "    return tokenizer(examples[\"text\"], padding=\"max_length\", truncation=True)\n",
    "\n",
    "\n",
    "tokenized_datasets = tmp_dataset.map(tokenize_function, batched=True)\n",
    "tokenized_datasets"
   ]
  },
  {
   "cell_type": "code",
   "execution_count": 16,
   "id": "36a8dc1b-d47e-47ae-8066-4aecc1ae3bdd",
   "metadata": {},
   "outputs": [
    {
     "data": {
      "application/vnd.jupyter.widget-view+json": {
       "model_id": "1b5e9b06c70a400184aef27e998b20c7",
       "version_major": 2,
       "version_minor": 0
      },
      "text/plain": [
       "Downloading builder script:   0%|          | 0.00/6.77k [00:00<?, ?B/s]"
      ]
     },
     "metadata": {},
     "output_type": "display_data"
    }
   ],
   "source": [
    "batch_size = 16\n",
    "# Show the training loss with every epoch\n",
    "logging_steps = len(tmp_dataset[\"train\"]) // batch_size\n",
    "model_name = \"bert-base-swedish-cased\"\n",
    "metric = evaluate.load(\"f1\")\n",
    "\n",
    "\n",
    "def compute_metrics(eval_pred):\n",
    "    logits, labels = eval_pred\n",
    "    predictions = np.argmax(logits, axis=-1)\n",
    "    return metric.compute(predictions=predictions, references=labels)\n",
    "\n",
    "\n",
    "training_args = TrainingArguments(\n",
    "    output_dir=f\"{model_name}-finetuned-automatic-classification-flashback\",\n",
    "    overwrite_output_dir=True,\n",
    "    evaluation_strategy=\"epoch\",\n",
    "    learning_rate=1e-5,\n",
    "    weight_decay=0.0005,\n",
    "    per_device_train_batch_size=batch_size,\n",
    "    per_device_eval_batch_size=batch_size,\n",
    "    eval_accumulation_steps=1,  # slower, but less prone to overflow CUDA memory\n",
    "    num_train_epochs=3,\n",
    "    logging_steps=logging_steps,\n",
    "    save_strategy=\"no\",  # I don't need to save model checkpoints when running experiments\n",
    ")\n",
    "\n",
    "trainer = Trainer(\n",
    "    model=masked_lm_checkpoint,\n",
    "    args=training_args,\n",
    "    train_dataset=tokenized_datasets[\"train\"],\n",
    "    eval_dataset=tokenized_datasets[\"test\"],\n",
    "    tokenizer=tokenizer,\n",
    "    compute_metrics=compute_metrics,\n",
    ")"
   ]
  },
  {
   "cell_type": "code",
   "execution_count": 17,
   "id": "a70b41a7-11a8-4cdf-bb9c-defdeb54de3d",
   "metadata": {},
   "outputs": [
    {
     "name": "stderr",
     "output_type": "stream",
     "text": [
      "The following columns in the training set don't have a corresponding argument in `BertForSequenceClassification.forward` and have been ignored: text. If text are not expected by `BertForSequenceClassification.forward`,  you can safely ignore this message.\n",
      "/usr/local/lib/python3.9/dist-packages/transformers/optimization.py:306: FutureWarning: This implementation of AdamW is deprecated and will be removed in a future version. Use the PyTorch implementation torch.optim.AdamW instead, or set `no_deprecation_warning=True` to disable this warning\n",
      "  warnings.warn(\n",
      "***** Running training *****\n",
      "  Num examples = 20000\n",
      "  Num Epochs = 3\n",
      "  Instantaneous batch size per device = 16\n",
      "  Total train batch size (w. parallel, distributed & accumulation) = 16\n",
      "  Gradient Accumulation steps = 1\n",
      "  Total optimization steps = 3750\n"
     ]
    },
    {
     "data": {
      "text/html": [
       "\n",
       "    <div>\n",
       "      \n",
       "      <progress value='3750' max='3750' style='width:300px; height:20px; vertical-align: middle;'></progress>\n",
       "      [3750/3750 45:37, Epoch 3/3]\n",
       "    </div>\n",
       "    <table border=\"1\" class=\"dataframe\">\n",
       "  <thead>\n",
       " <tr style=\"text-align: left;\">\n",
       "      <th>Epoch</th>\n",
       "      <th>Training Loss</th>\n",
       "      <th>Validation Loss</th>\n",
       "      <th>F1</th>\n",
       "    </tr>\n",
       "  </thead>\n",
       "  <tbody>\n",
       "    <tr>\n",
       "      <td>1</td>\n",
       "      <td>0.358400</td>\n",
       "      <td>0.641744</td>\n",
       "      <td>0.470199</td>\n",
       "    </tr>\n",
       "    <tr>\n",
       "      <td>2</td>\n",
       "      <td>0.271300</td>\n",
       "      <td>0.726082</td>\n",
       "      <td>0.483660</td>\n",
       "    </tr>\n",
       "    <tr>\n",
       "      <td>3</td>\n",
       "      <td>0.225500</td>\n",
       "      <td>0.899769</td>\n",
       "      <td>0.480480</td>\n",
       "    </tr>\n",
       "  </tbody>\n",
       "</table><p>"
      ],
      "text/plain": [
       "<IPython.core.display.HTML object>"
      ]
     },
     "metadata": {},
     "output_type": "display_data"
    },
    {
     "name": "stderr",
     "output_type": "stream",
     "text": [
      "The following columns in the evaluation set don't have a corresponding argument in `BertForSequenceClassification.forward` and have been ignored: text. If text are not expected by `BertForSequenceClassification.forward`,  you can safely ignore this message.\n",
      "***** Running Evaluation *****\n",
      "  Num examples = 647\n",
      "  Batch size = 16\n",
      "The following columns in the evaluation set don't have a corresponding argument in `BertForSequenceClassification.forward` and have been ignored: text. If text are not expected by `BertForSequenceClassification.forward`,  you can safely ignore this message.\n",
      "***** Running Evaluation *****\n",
      "  Num examples = 647\n",
      "  Batch size = 16\n",
      "The following columns in the evaluation set don't have a corresponding argument in `BertForSequenceClassification.forward` and have been ignored: text. If text are not expected by `BertForSequenceClassification.forward`,  you can safely ignore this message.\n",
      "***** Running Evaluation *****\n",
      "  Num examples = 647\n",
      "  Batch size = 16\n",
      "\n",
      "\n",
      "Training completed. Do not forget to share your model on huggingface.co/models =)\n",
      "\n",
      "\n"
     ]
    },
    {
     "data": {
      "text/plain": [
       "TrainOutput(global_step=3750, training_loss=0.28504336751302084, metrics={'train_runtime': 2738.9358, 'train_samples_per_second': 21.906, 'train_steps_per_second': 1.369, 'total_flos': 1.57866633216e+16, 'train_loss': 0.28504336751302084, 'epoch': 3.0})"
      ]
     },
     "execution_count": 17,
     "metadata": {},
     "output_type": "execute_result"
    }
   ],
   "source": [
    "trainer.train()"
   ]
  },
  {
   "cell_type": "markdown",
   "id": "37476125-27c1-49cd-a423-60770a444b59",
   "metadata": {},
   "source": [
    "And then, if the results are deemed worthy, let's save it for future inference and the domain transfer task."
   ]
  },
  {
   "cell_type": "code",
   "execution_count": 23,
   "id": "5d179de7-5809-4105-bcac-c18b79d18b63",
   "metadata": {},
   "outputs": [
    {
     "name": "stderr",
     "output_type": "stream",
     "text": [
      "Saving model checkpoint to flashback_automatic_model\n",
      "Configuration saved in flashback_automatic_model/config.json\n",
      "Model weights saved in flashback_automatic_model/pytorch_model.bin\n",
      "tokenizer config file saved in flashback_automatic_model/tokenizer_config.json\n",
      "Special tokens file saved in flashback_automatic_model/special_tokens_map.json\n"
     ]
    }
   ],
   "source": [
    "trainer.save_model(\"flashback_automatic_model\")"
   ]
  },
  {
   "cell_type": "markdown",
   "id": "f6ef21bb-3ff4-48d8-8f93-4192e3eb7a2a",
   "metadata": {},
   "source": [
    "### Evaluating model"
   ]
  },
  {
   "cell_type": "markdown",
   "id": "7a8a0ed8-857d-457c-9653-3b160f111608",
   "metadata": {},
   "source": [
    "We do the same as we did for the annotated version, first defining a pipeline, and then using the `MetricsWrapper` class to evaluate the model (which is, as the name implies, a simple class written to make getting various metrics easy)."
   ]
  },
  {
   "cell_type": "code",
   "execution_count": 24,
   "id": "49e177ca-8319-470a-8029-48708b7ee1a8",
   "metadata": {
    "tags": []
   },
   "outputs": [
    {
     "name": "stderr",
     "output_type": "stream",
     "text": [
      "loading configuration file flashback_automatic_model/config.json\n",
      "Model config BertConfig {\n",
      "  \"_name_or_path\": \"flashback_automatic_model\",\n",
      "  \"architectures\": [\n",
      "    \"BertForSequenceClassification\"\n",
      "  ],\n",
      "  \"attention_probs_dropout_prob\": 0.2,\n",
      "  \"classifier_dropout\": null,\n",
      "  \"gradient_checkpointing\": false,\n",
      "  \"hidden_act\": \"gelu\",\n",
      "  \"hidden_dropout_prob\": 0.2,\n",
      "  \"hidden_size\": 768,\n",
      "  \"initializer_range\": 0.02,\n",
      "  \"intermediate_size\": 3072,\n",
      "  \"layer_norm_eps\": 1e-12,\n",
      "  \"max_position_embeddings\": 512,\n",
      "  \"model_type\": \"bert\",\n",
      "  \"num_attention_heads\": 12,\n",
      "  \"num_hidden_layers\": 12,\n",
      "  \"output_past\": true,\n",
      "  \"pad_token_id\": 0,\n",
      "  \"position_embedding_type\": \"absolute\",\n",
      "  \"problem_type\": \"single_label_classification\",\n",
      "  \"torch_dtype\": \"float32\",\n",
      "  \"transformers_version\": \"4.20.1\",\n",
      "  \"type_vocab_size\": 2,\n",
      "  \"use_cache\": true,\n",
      "  \"vocab_size\": 50325\n",
      "}\n",
      "\n",
      "loading configuration file flashback_automatic_model/config.json\n",
      "Model config BertConfig {\n",
      "  \"_name_or_path\": \"flashback_automatic_model\",\n",
      "  \"architectures\": [\n",
      "    \"BertForSequenceClassification\"\n",
      "  ],\n",
      "  \"attention_probs_dropout_prob\": 0.2,\n",
      "  \"classifier_dropout\": null,\n",
      "  \"gradient_checkpointing\": false,\n",
      "  \"hidden_act\": \"gelu\",\n",
      "  \"hidden_dropout_prob\": 0.2,\n",
      "  \"hidden_size\": 768,\n",
      "  \"initializer_range\": 0.02,\n",
      "  \"intermediate_size\": 3072,\n",
      "  \"layer_norm_eps\": 1e-12,\n",
      "  \"max_position_embeddings\": 512,\n",
      "  \"model_type\": \"bert\",\n",
      "  \"num_attention_heads\": 12,\n",
      "  \"num_hidden_layers\": 12,\n",
      "  \"output_past\": true,\n",
      "  \"pad_token_id\": 0,\n",
      "  \"position_embedding_type\": \"absolute\",\n",
      "  \"problem_type\": \"single_label_classification\",\n",
      "  \"torch_dtype\": \"float32\",\n",
      "  \"transformers_version\": \"4.20.1\",\n",
      "  \"type_vocab_size\": 2,\n",
      "  \"use_cache\": true,\n",
      "  \"vocab_size\": 50325\n",
      "}\n",
      "\n",
      "loading weights file flashback_automatic_model/pytorch_model.bin\n",
      "All model checkpoint weights were used when initializing BertForSequenceClassification.\n",
      "\n",
      "All the weights of BertForSequenceClassification were initialized from the model checkpoint at flashback_automatic_model.\n",
      "If your task is similar to the task the model of the checkpoint was trained on, you can already use BertForSequenceClassification for predictions without further training.\n",
      "Didn't find file flashback_automatic_model/added_tokens.json. We won't load it.\n",
      "loading file flashback_automatic_model/vocab.txt\n",
      "loading file flashback_automatic_model/tokenizer.json\n",
      "loading file None\n",
      "loading file flashback_automatic_model/special_tokens_map.json\n",
      "loading file flashback_automatic_model/tokenizer_config.json\n"
     ]
    }
   ],
   "source": [
    "automatic_model_pipeline = pipeline(\n",
    "    \"text-classification\",\n",
    "    model=\"flashback_automatic_model\",\n",
    ")"
   ]
  },
  {
   "cell_type": "markdown",
   "id": "c4bae737-c6fb-4ab6-9e0f-89fc95abaaa5",
   "metadata": {},
   "source": [
    "#### Devset"
   ]
  },
  {
   "cell_type": "code",
   "execution_count": 25,
   "id": "1023eec8-613a-4d23-afb5-5385800cb2ca",
   "metadata": {},
   "outputs": [],
   "source": [
    "dev_metrics = MetricsWrapper(automatic_model_pipeline, dev_set[\"test\"])"
   ]
  },
  {
   "cell_type": "markdown",
   "id": "7db517b5-d755-440b-a7ac-19bb25404496",
   "metadata": {},
   "source": [
    "No change in proportion HS/non-HS:"
   ]
  },
  {
   "cell_type": "code",
   "execution_count": 26,
   "id": "ef18e4fc-dd62-4a2e-9a79-73c20d454314",
   "metadata": {},
   "outputs": [
    {
     "name": "stdout",
     "output_type": "stream",
     "text": [
      "precision: 0.44\n",
      "recall: 0.53\n",
      "f1_score: 0.48\n"
     ]
    },
    {
     "data": {
      "image/png": "[encoded data removed]",
      "text/plain": [
       "<Figure size 432x288 with 2 Axes>"
      ]
     },
     "metadata": {
      "needs_background": "light"
     },
     "output_type": "display_data"
    }
   ],
   "source": [
    "dev_metrics.display_metrics()"
   ]
  },
  {
   "cell_type": "markdown",
   "id": "351d28f6-79d4-46a9-9dc4-f9977071c605",
   "metadata": {},
   "source": [
    "50% HS/non-HS:"
   ]
  },
  {
   "cell_type": "code",
   "execution_count": 59,
   "id": "c9bc7b87-0501-4d9d-bece-91ec9339157d",
   "metadata": {},
   "outputs": [
    {
     "name": "stdout",
     "output_type": "stream",
     "text": [
      "precision: 0.40\n",
      "recall: 0.60\n",
      "f1_score: 0.48\n"
     ]
    },
    {
     "data": {
      "image/png": "[encoded data removed]",
      "text/plain": [
       "<Figure size 432x288 with 2 Axes>"
      ]
     },
     "metadata": {
      "needs_background": "light"
     },
     "output_type": "display_data"
    }
   ],
   "source": [
    "dev_metrics.display_metrics()"
   ]
  },
  {
   "cell_type": "markdown",
   "id": "2a2b111b-c8f6-4ab4-987e-11f4ba57ef0e",
   "metadata": {},
   "source": [
    "33% HS/non-HS"
   ]
  },
  {
   "cell_type": "code",
   "execution_count": 107,
   "id": "bf6422c7-f527-47d3-b6ca-89b66c53b9d7",
   "metadata": {},
   "outputs": [
    {
     "name": "stdout",
     "output_type": "stream",
     "text": [
      "precision: 0.47\n",
      "recall: 0.51\n",
      "f1_score: 0.49\n"
     ]
    },
    {
     "data": {
      "image/png": "[encoded data removed]",
      "text/plain": [
       "<Figure size 432x288 with 2 Axes>"
      ]
     },
     "metadata": {
      "needs_background": "light"
     },
     "output_type": "display_data"
    }
   ],
   "source": [
    "dev_metrics.display_metrics()"
   ]
  },
  {
   "cell_type": "markdown",
   "id": "6cd742e6-e556-4509-b30a-418ec2caa1dd",
   "metadata": {},
   "source": [
    "25% HS/non-HS:"
   ]
  },
  {
   "cell_type": "code",
   "execution_count": 90,
   "id": "1d249feb-4f76-4fec-a461-dce45b33cbbe",
   "metadata": {},
   "outputs": [
    {
     "name": "stdout",
     "output_type": "stream",
     "text": [
      "precision: 0.49\n",
      "recall: 0.47\n",
      "f1_score: 0.48\n"
     ]
    },
    {
     "data": {
      "image/png": "[encoded data removed]",
      "text/plain": [
       "<Figure size 432x288 with 2 Axes>"
      ]
     },
     "metadata": {
      "needs_background": "light"
     },
     "output_type": "display_data"
    }
   ],
   "source": [
    "dev_metrics.display_metrics()"
   ]
  },
  {
   "cell_type": "markdown",
   "id": "9ea840fe-2ab5-4fdd-8867-69e5910faf54",
   "metadata": {
    "tags": []
   },
   "source": [
    "## Cross-domain transfer"
   ]
  },
  {
   "cell_type": "markdown",
   "id": "4759053a-ab36-4f3f-a303-738768984874",
   "metadata": {
    "tags": []
   },
   "source": [
    "### Training MLM"
   ]
  },
  {
   "cell_type": "markdown",
   "id": "8e840318-886c-4a4e-95fb-4465e90c7210",
   "metadata": {},
   "source": [
    "#### Import data"
   ]
  },
  {
   "cell_type": "code",
   "execution_count": 3,
   "id": "8fb36566-73a7-40f2-8c00-84ab5cffb7cd",
   "metadata": {},
   "outputs": [
    {
     "data": {
      "application/vnd.jupyter.widget-view+json": {
       "model_id": "23f056c0a4664fdba6dc4c53f8df2e96",
       "version_major": 2,
       "version_minor": 0
      },
      "text/plain": [
       "Downloading:   0%|          | 0.00/48.0 [00:00<?, ?B/s]"
      ]
     },
     "metadata": {},
     "output_type": "display_data"
    },
    {
     "data": {
      "application/vnd.jupyter.widget-view+json": {
       "model_id": "7e904c5575164383b848b62f805a8c2f",
       "version_major": 2,
       "version_minor": 0
      },
      "text/plain": [
       "Downloading:   0%|          | 0.00/491 [00:00<?, ?B/s]"
      ]
     },
     "metadata": {},
     "output_type": "display_data"
    },
    {
     "data": {
      "application/vnd.jupyter.widget-view+json": {
       "model_id": "931fddcec40d414abb0c98a043226547",
       "version_major": 2,
       "version_minor": 0
      },
      "text/plain": [
       "Downloading:   0%|          | 0.00/390k [00:00<?, ?B/s]"
      ]
     },
     "metadata": {},
     "output_type": "display_data"
    },
    {
     "data": {
      "application/vnd.jupyter.widget-view+json": {
       "model_id": "4e9e4009d45b48bb999e4859e4d94142",
       "version_major": 2,
       "version_minor": 0
      },
      "text/plain": [
       "Downloading:   0%|          | 0.00/2.00 [00:00<?, ?B/s]"
      ]
     },
     "metadata": {},
     "output_type": "display_data"
    },
    {
     "data": {
      "application/vnd.jupyter.widget-view+json": {
       "model_id": "dca5d14ee3e74daf9a1dc155eae09d68",
       "version_major": 2,
       "version_minor": 0
      },
      "text/plain": [
       "Downloading:   0%|          | 0.00/112 [00:00<?, ?B/s]"
      ]
     },
     "metadata": {},
     "output_type": "display_data"
    },
    {
     "data": {
      "application/vnd.jupyter.widget-view+json": {
       "model_id": "509ad6351ad649f3be854c6444b4da99",
       "version_major": 2,
       "version_minor": 0
      },
      "text/plain": [
       "Downloading:   0%|          | 0.00/478M [00:00<?, ?B/s]"
      ]
     },
     "metadata": {},
     "output_type": "display_data"
    }
   ],
   "source": [
    "tokenizer = AutoTokenizer.from_pretrained('KB/bert-base-swedish-cased')\n",
    "tokenizer.model_max_length = 512\n",
    "model_checkpoint = AutoModelForMaskedLM.from_pretrained('KB/bert-base-swedish-cased')"
   ]
  },
  {
   "cell_type": "code",
   "execution_count": 4,
   "id": "8fd9328e-7746-4c7c-ab6f-3d0ed1444ded",
   "metadata": {},
   "outputs": [
    {
     "data": {
      "text/plain": [
       "DatasetDict({\n",
       "    train: Dataset({\n",
       "        features: ['text', 'label'],\n",
       "        num_rows: 100000\n",
       "    })\n",
       "    test: Dataset({\n",
       "        features: ['text', 'label'],\n",
       "        num_rows: 10000\n",
       "    })\n",
       "})"
      ]
     },
     "execution_count": 4,
     "metadata": {},
     "output_type": "execute_result"
    }
   ],
   "source": [
    "conn = sqlite3.connect(\"data/familjeliv.db\")\n",
    "with conn:\n",
    "    pool_df = pd.read_sql_query(\"SELECT * FROM posts;\", conn, index_col=\"id\")\n",
    "    pool_df = pool_df.sample(frac = 1, random_state = 666).reset_index(drop=True)\n",
    "    pool_df[\"label\"] = 0\n",
    "    pool_df = pool_df[[\"text\", \"label\"]]\n",
    "\n",
    "mlm_dataset = DatasetDict({\n",
    "    \"train\": Dataset.from_pandas(pool_df[:100000].reset_index(drop=True)),\n",
    "    \"test\": Dataset.from_pandas(pool_df[100000:110000].reset_index(drop=True))\n",
    "})\n",
    "\n",
    "mlm_dataset"
   ]
  },
  {
   "cell_type": "markdown",
   "id": "de184602-10c9-4e59-9a88-b15814e4d6c5",
   "metadata": {},
   "source": [
    "#### Convert dataset to chunks"
   ]
  },
  {
   "cell_type": "code",
   "execution_count": 5,
   "id": "38eadc98-b5ee-4bf9-beaf-d12b70b6ceeb",
   "metadata": {},
   "outputs": [],
   "source": [
    "def tokenize_function(document):\n",
    "    \"\"\" returns tokenized document, quickly if tokenizer 'is fast' according to hf\"\"\"\n",
    "    result = tokenizer(document[\"text\"])\n",
    "    if tokenizer.is_fast:\n",
    "        result[\"word_ids\"] = [result.word_ids(i) for i in range(len(result[\"input_ids\"]))]\n",
    "    return result"
   ]
  },
  {
   "cell_type": "code",
   "execution_count": 6,
   "id": "e22bfabe-5eed-476a-86de-aa324fc171f4",
   "metadata": {},
   "outputs": [],
   "source": [
    "chunk_size = tokenizer.model_max_length"
   ]
  },
  {
   "cell_type": "code",
   "execution_count": 7,
   "id": "3c1aa2a3-9e0a-4862-905b-9fbf63d0caa5",
   "metadata": {},
   "outputs": [
    {
     "name": "stderr",
     "output_type": "stream",
     "text": [
      "Parameter 'function'=<function tokenize_function at 0x7fd1a7ac3b80> of the transform datasets.arrow_dataset.Dataset._map_single couldn't be hashed properly, a random hash was used instead. Make sure your transforms and parameters are serializable with pickle or dill for the dataset fingerprinting and caching to work. If you reuse this transform, the caching mechanism will consider it to be different from the previous calls and recompute everything. This warning is only showed once. Subsequent hashing failures won't be showed.\n"
     ]
    },
    {
     "data": {
      "application/vnd.jupyter.widget-view+json": {
       "model_id": "d1bad6dde884444286a8084dfc14cec0",
       "version_major": 2,
       "version_minor": 0
      },
      "text/plain": [
       "  0%|          | 0/100 [00:00<?, ?ba/s]"
      ]
     },
     "metadata": {},
     "output_type": "display_data"
    },
    {
     "name": "stderr",
     "output_type": "stream",
     "text": [
      "Token indices sequence length is longer than the specified maximum sequence length for this model (1033 > 512). Running this sequence through the model will result in indexing errors\n"
     ]
    },
    {
     "data": {
      "application/vnd.jupyter.widget-view+json": {
       "model_id": "985c433de5454049b3a2171620cdb436",
       "version_major": 2,
       "version_minor": 0
      },
      "text/plain": [
       "  0%|          | 0/10 [00:00<?, ?ba/s]"
      ]
     },
     "metadata": {},
     "output_type": "display_data"
    },
    {
     "data": {
      "text/plain": [
       "DatasetDict({\n",
       "    train: Dataset({\n",
       "        features: ['input_ids', 'token_type_ids', 'attention_mask', 'word_ids'],\n",
       "        num_rows: 100000\n",
       "    })\n",
       "    test: Dataset({\n",
       "        features: ['input_ids', 'token_type_ids', 'attention_mask', 'word_ids'],\n",
       "        num_rows: 10000\n",
       "    })\n",
       "})"
      ]
     },
     "execution_count": 7,
     "metadata": {},
     "output_type": "execute_result"
    }
   ],
   "source": [
    "tokenized_datasets = mlm_dataset.map(\n",
    "    tokenize_function, batched=True, remove_columns=[\"text\", \"label\"]\n",
    ")\n",
    "tokenized_datasets"
   ]
  },
  {
   "cell_type": "code",
   "execution_count": 8,
   "id": "d1791974-df4b-40db-92c0-60600b959db9",
   "metadata": {},
   "outputs": [],
   "source": [
    "def group_texts(examples):\n",
    "    # Concatenate all texts\n",
    "    concatenated_examples = {k: sum(examples[k], []) for k in examples.keys()}\n",
    "    # Compute length of concatenated texts\n",
    "    total_length = len(concatenated_examples[list(examples.keys())[0]])\n",
    "    # We drop the last chunk if it's smaller than chunk_size\n",
    "    total_length = (total_length // chunk_size) * chunk_size\n",
    "    # Split by chunks of max_len\n",
    "    result = {\n",
    "        k: [t[i : i + chunk_size] for i in range(0, total_length, chunk_size)]\n",
    "        for k, t in concatenated_examples.items()\n",
    "    }\n",
    "    # Create a new labels column\n",
    "    result[\"labels\"] = result[\"input_ids\"].copy()\n",
    "    return result"
   ]
  },
  {
   "cell_type": "code",
   "execution_count": 9,
   "id": "14223ce9-8fb5-4654-99ed-cdbff0540421",
   "metadata": {},
   "outputs": [
    {
     "data": {
      "application/vnd.jupyter.widget-view+json": {
       "model_id": "8535ca1c267e4f67ad0f64180501c9b7",
       "version_major": 2,
       "version_minor": 0
      },
      "text/plain": [
       "  0%|          | 0/100 [00:00<?, ?ba/s]"
      ]
     },
     "metadata": {},
     "output_type": "display_data"
    },
    {
     "data": {
      "application/vnd.jupyter.widget-view+json": {
       "model_id": "2e5f5971833547e7be6d02b7e2730b71",
       "version_major": 2,
       "version_minor": 0
      },
      "text/plain": [
       "  0%|          | 0/10 [00:00<?, ?ba/s]"
      ]
     },
     "metadata": {},
     "output_type": "display_data"
    },
    {
     "data": {
      "text/plain": [
       "DatasetDict({\n",
       "    train: Dataset({\n",
       "        features: ['input_ids', 'token_type_ids', 'attention_mask', 'word_ids', 'labels'],\n",
       "        num_rows: 14803\n",
       "    })\n",
       "    test: Dataset({\n",
       "        features: ['input_ids', 'token_type_ids', 'attention_mask', 'word_ids', 'labels'],\n",
       "        num_rows: 1441\n",
       "    })\n",
       "})"
      ]
     },
     "execution_count": 9,
     "metadata": {},
     "output_type": "execute_result"
    }
   ],
   "source": [
    "mlm_dataset = tokenized_datasets.map(group_texts, batched=True)\n",
    "mlm_dataset"
   ]
  },
  {
   "cell_type": "markdown",
   "id": "915d24f2-7307-47e6-979a-788a539e4979",
   "metadata": {},
   "source": [
    "#### Train MLM"
   ]
  },
  {
   "cell_type": "code",
   "execution_count": 10,
   "id": "7eef9b56-8040-48f5-9174-6f5dabbec1a1",
   "metadata": {},
   "outputs": [],
   "source": [
    "batch_size = 12\n",
    "# Show the training loss with every epoch\n",
    "logging_steps = len(mlm_dataset[\"train\"]) // batch_size\n",
    "model_name = \"bert-base-swedish-cased\"\n",
    "\n",
    "training_args = TrainingArguments(\n",
    "    output_dir=f\"{model_name}-finetuned-familjeliv-automatic\",\n",
    "    overwrite_output_dir=True,\n",
    "    evaluation_strategy=\"epoch\",\n",
    "    learning_rate=2e-5,\n",
    "    weight_decay=0.01,\n",
    "    per_device_train_batch_size=batch_size,\n",
    "    per_device_eval_batch_size=batch_size,\n",
    "    eval_accumulation_steps=1,  # slower, but less prone to overflow CUDA memory\n",
    "    num_train_epochs=15,\n",
    "    save_strategy=\"no\",  # not necessary here\n",
    "    logging_steps=logging_steps,\n",
    ")\n",
    "\n",
    "trainer = Trainer(\n",
    "    model=model_checkpoint,\n",
    "    args=training_args,\n",
    "    train_dataset=mlm_dataset[\"train\"],\n",
    "    eval_dataset=mlm_dataset[\"test\"],\n",
    "    data_collator=DataCollatorForLanguageModeling(tokenizer=tokenizer, mlm_probability=0.15),\n",
    "    tokenizer=tokenizer,\n",
    ")"
   ]
  },
  {
   "cell_type": "markdown",
   "id": "8dd33de1-0d47-4fb7-a73a-2e483279a626",
   "metadata": {},
   "source": [
    "First, let's measure the perplexity before MLM finetuning:"
   ]
  },
  {
   "cell_type": "code",
   "execution_count": 11,
   "id": "4020cd2b-0a59-42a2-8358-3e6d8c207eed",
   "metadata": {
    "tags": []
   },
   "outputs": [
    {
     "name": "stderr",
     "output_type": "stream",
     "text": [
      "The following columns in the evaluation set don't have a corresponding argument in `BertForMaskedLM.forward` and have been ignored: word_ids. If word_ids are not expected by `BertForMaskedLM.forward`,  you can safely ignore this message.\n",
      "***** Running Evaluation *****\n",
      "  Num examples = 1441\n",
      "  Batch size = 12\n"
     ]
    },
    {
     "data": {
      "text/html": [
       "\n",
       "    <div>\n",
       "      \n",
       "      <progress value='242' max='121' style='width:300px; height:20px; vertical-align: middle;'></progress>\n",
       "      [121/121 15:47]\n",
       "    </div>\n",
       "    "
      ],
      "text/plain": [
       "<IPython.core.display.HTML object>"
      ]
     },
     "metadata": {},
     "output_type": "display_data"
    },
    {
     "name": "stdout",
     "output_type": "stream",
     "text": [
      ">>> Perplexity: 25.19\n"
     ]
    }
   ],
   "source": [
    "eval_results = trainer.evaluate()\n",
    "print(f\">>> Perplexity: {math.exp(eval_results['eval_loss']):.2f}\")"
   ]
  },
  {
   "cell_type": "markdown",
   "id": "a9de559e-cf52-4a90-975a-01a61e481f80",
   "metadata": {},
   "source": [
    "And then, finally, let's finetune:"
   ]
  },
  {
   "cell_type": "code",
   "execution_count": 12,
   "id": "d81b1784-b419-4934-822b-3780ec5e7e74",
   "metadata": {},
   "outputs": [
    {
     "name": "stderr",
     "output_type": "stream",
     "text": [
      "The following columns in the training set don't have a corresponding argument in `BertForMaskedLM.forward` and have been ignored: word_ids. If word_ids are not expected by `BertForMaskedLM.forward`,  you can safely ignore this message.\n",
      "/usr/local/lib/python3.9/dist-packages/transformers/optimization.py:306: FutureWarning: This implementation of AdamW is deprecated and will be removed in a future version. Use the PyTorch implementation torch.optim.AdamW instead, or set `no_deprecation_warning=True` to disable this warning\n",
      "  warnings.warn(\n",
      "***** Running training *****\n",
      "  Num examples = 14803\n",
      "  Num Epochs = 15\n",
      "  Instantaneous batch size per device = 12\n",
      "  Total train batch size (w. parallel, distributed & accumulation) = 12\n",
      "  Gradient Accumulation steps = 1\n",
      "  Total optimization steps = 18510\n"
     ]
    },
    {
     "data": {
      "text/html": [
       "\n",
       "    <div>\n",
       "      \n",
       "      <progress value='18510' max='18510' style='width:300px; height:20px; vertical-align: middle;'></progress>\n",
       "      [18510/18510 3:49:32, Epoch 15/15]\n",
       "    </div>\n",
       "    <table border=\"1\" class=\"dataframe\">\n",
       "  <thead>\n",
       " <tr style=\"text-align: left;\">\n",
       "      <th>Epoch</th>\n",
       "      <th>Training Loss</th>\n",
       "      <th>Validation Loss</th>\n",
       "    </tr>\n",
       "  </thead>\n",
       "  <tbody>\n",
       "    <tr>\n",
       "      <td>1</td>\n",
       "      <td>2.200300</td>\n",
       "      <td>1.988014</td>\n",
       "    </tr>\n",
       "    <tr>\n",
       "      <td>2</td>\n",
       "      <td>2.089100</td>\n",
       "      <td>1.934753</td>\n",
       "    </tr>\n",
       "    <tr>\n",
       "      <td>3</td>\n",
       "      <td>2.036500</td>\n",
       "      <td>1.928752</td>\n",
       "    </tr>\n",
       "    <tr>\n",
       "      <td>4</td>\n",
       "      <td>1.998500</td>\n",
       "      <td>1.910472</td>\n",
       "    </tr>\n",
       "    <tr>\n",
       "      <td>5</td>\n",
       "      <td>1.970600</td>\n",
       "      <td>1.866040</td>\n",
       "    </tr>\n",
       "    <tr>\n",
       "      <td>6</td>\n",
       "      <td>1.939200</td>\n",
       "      <td>1.868417</td>\n",
       "    </tr>\n",
       "    <tr>\n",
       "      <td>7</td>\n",
       "      <td>1.918000</td>\n",
       "      <td>1.857639</td>\n",
       "    </tr>\n",
       "    <tr>\n",
       "      <td>8</td>\n",
       "      <td>1.898200</td>\n",
       "      <td>1.846216</td>\n",
       "    </tr>\n",
       "    <tr>\n",
       "      <td>9</td>\n",
       "      <td>1.888200</td>\n",
       "      <td>1.838615</td>\n",
       "    </tr>\n",
       "    <tr>\n",
       "      <td>10</td>\n",
       "      <td>1.875200</td>\n",
       "      <td>1.839156</td>\n",
       "    </tr>\n",
       "    <tr>\n",
       "      <td>11</td>\n",
       "      <td>1.866800</td>\n",
       "      <td>1.830943</td>\n",
       "    </tr>\n",
       "    <tr>\n",
       "      <td>12</td>\n",
       "      <td>1.854200</td>\n",
       "      <td>1.818688</td>\n",
       "    </tr>\n",
       "    <tr>\n",
       "      <td>13</td>\n",
       "      <td>1.840800</td>\n",
       "      <td>1.817722</td>\n",
       "    </tr>\n",
       "    <tr>\n",
       "      <td>14</td>\n",
       "      <td>1.829200</td>\n",
       "      <td>1.818611</td>\n",
       "    </tr>\n",
       "    <tr>\n",
       "      <td>15</td>\n",
       "      <td>1.828100</td>\n",
       "      <td>1.824283</td>\n",
       "    </tr>\n",
       "  </tbody>\n",
       "</table><p>"
      ],
      "text/plain": [
       "<IPython.core.display.HTML object>"
      ]
     },
     "metadata": {},
     "output_type": "display_data"
    },
    {
     "name": "stderr",
     "output_type": "stream",
     "text": [
      "The following columns in the evaluation set don't have a corresponding argument in `BertForMaskedLM.forward` and have been ignored: word_ids. If word_ids are not expected by `BertForMaskedLM.forward`,  you can safely ignore this message.\n",
      "***** Running Evaluation *****\n",
      "  Num examples = 1441\n",
      "  Batch size = 12\n",
      "The following columns in the evaluation set don't have a corresponding argument in `BertForMaskedLM.forward` and have been ignored: word_ids. If word_ids are not expected by `BertForMaskedLM.forward`,  you can safely ignore this message.\n",
      "***** Running Evaluation *****\n",
      "  Num examples = 1441\n",
      "  Batch size = 12\n",
      "The following columns in the evaluation set don't have a corresponding argument in `BertForMaskedLM.forward` and have been ignored: word_ids. If word_ids are not expected by `BertForMaskedLM.forward`,  you can safely ignore this message.\n",
      "***** Running Evaluation *****\n",
      "  Num examples = 1441\n",
      "  Batch size = 12\n",
      "The following columns in the evaluation set don't have a corresponding argument in `BertForMaskedLM.forward` and have been ignored: word_ids. If word_ids are not expected by `BertForMaskedLM.forward`,  you can safely ignore this message.\n",
      "***** Running Evaluation *****\n",
      "  Num examples = 1441\n",
      "  Batch size = 12\n",
      "The following columns in the evaluation set don't have a corresponding argument in `BertForMaskedLM.forward` and have been ignored: word_ids. If word_ids are not expected by `BertForMaskedLM.forward`,  you can safely ignore this message.\n",
      "***** Running Evaluation *****\n",
      "  Num examples = 1441\n",
      "  Batch size = 12\n",
      "The following columns in the evaluation set don't have a corresponding argument in `BertForMaskedLM.forward` and have been ignored: word_ids. If word_ids are not expected by `BertForMaskedLM.forward`,  you can safely ignore this message.\n",
      "***** Running Evaluation *****\n",
      "  Num examples = 1441\n",
      "  Batch size = 12\n",
      "The following columns in the evaluation set don't have a corresponding argument in `BertForMaskedLM.forward` and have been ignored: word_ids. If word_ids are not expected by `BertForMaskedLM.forward`,  you can safely ignore this message.\n",
      "***** Running Evaluation *****\n",
      "  Num examples = 1441\n",
      "  Batch size = 12\n",
      "The following columns in the evaluation set don't have a corresponding argument in `BertForMaskedLM.forward` and have been ignored: word_ids. If word_ids are not expected by `BertForMaskedLM.forward`,  you can safely ignore this message.\n",
      "***** Running Evaluation *****\n",
      "  Num examples = 1441\n",
      "  Batch size = 12\n",
      "The following columns in the evaluation set don't have a corresponding argument in `BertForMaskedLM.forward` and have been ignored: word_ids. If word_ids are not expected by `BertForMaskedLM.forward`,  you can safely ignore this message.\n",
      "***** Running Evaluation *****\n",
      "  Num examples = 1441\n",
      "  Batch size = 12\n",
      "The following columns in the evaluation set don't have a corresponding argument in `BertForMaskedLM.forward` and have been ignored: word_ids. If word_ids are not expected by `BertForMaskedLM.forward`,  you can safely ignore this message.\n",
      "***** Running Evaluation *****\n",
      "  Num examples = 1441\n",
      "  Batch size = 12\n",
      "The following columns in the evaluation set don't have a corresponding argument in `BertForMaskedLM.forward` and have been ignored: word_ids. If word_ids are not expected by `BertForMaskedLM.forward`,  you can safely ignore this message.\n",
      "***** Running Evaluation *****\n",
      "  Num examples = 1441\n",
      "  Batch size = 12\n",
      "\n",
      "\n",
      "Training completed. Do not forget to share your model on huggingface.co/models =)\n",
      "\n",
      "\n"
     ]
    },
    {
     "data": {
      "text/plain": [
       "TrainOutput(global_step=18510, training_loss=1.9354288089861424, metrics={'train_runtime': 13773.1725, 'train_samples_per_second': 16.122, 'train_steps_per_second': 1.344, 'total_flos': 5.845682072489472e+16, 'train_loss': 1.9354288089861424, 'epoch': 15.0})"
      ]
     },
     "execution_count": 12,
     "metadata": {},
     "output_type": "execute_result"
    }
   ],
   "source": [
    "trainer.train()"
   ]
  },
  {
   "cell_type": "markdown",
   "id": "6308cc67-e17d-4b4f-a7a1-85c918243cf2",
   "metadata": {},
   "source": [
    "And then, let's check how well it learned domain-specific lingo:"
   ]
  },
  {
   "cell_type": "code",
   "execution_count": 13,
   "id": "80a4956c-fab4-4b50-884f-6b507e8220b8",
   "metadata": {},
   "outputs": [
    {
     "name": "stderr",
     "output_type": "stream",
     "text": [
      "The following columns in the evaluation set don't have a corresponding argument in `BertForMaskedLM.forward` and have been ignored: word_ids. If word_ids are not expected by `BertForMaskedLM.forward`,  you can safely ignore this message.\n",
      "***** Running Evaluation *****\n",
      "  Num examples = 1441\n",
      "  Batch size = 12\n"
     ]
    },
    {
     "data": {
      "text/html": [
       "\n",
       "    <div>\n",
       "      \n",
       "      <progress value='121' max='121' style='width:300px; height:20px; vertical-align: middle;'></progress>\n",
       "      [121/121 00:30]\n",
       "    </div>\n",
       "    "
      ],
      "text/plain": [
       "<IPython.core.display.HTML object>"
      ]
     },
     "metadata": {},
     "output_type": "display_data"
    },
    {
     "name": "stdout",
     "output_type": "stream",
     "text": [
      ">>> Perplexity: 6.16\n"
     ]
    }
   ],
   "source": [
    "eval_results = trainer.evaluate()\n",
    "print(f\">>> Perplexity: {math.exp(eval_results['eval_loss']):.2f}\")"
   ]
  },
  {
   "cell_type": "markdown",
   "id": "468afcbf-dc0f-4d05-bfc4-8f06fd3e6b9c",
   "metadata": {},
   "source": [
    "And then, to save results:"
   ]
  },
  {
   "cell_type": "code",
   "execution_count": 14,
   "id": "3298ada8-8fbb-470d-ad23-f364aaf60bb4",
   "metadata": {},
   "outputs": [
    {
     "name": "stderr",
     "output_type": "stream",
     "text": [
      "Saving model checkpoint to familjeliv_mlm_automatic\n",
      "Configuration saved in familjeliv_mlm_automatic/config.json\n",
      "Model weights saved in familjeliv_mlm_automatic/pytorch_model.bin\n",
      "tokenizer config file saved in familjeliv_mlm_automatic/tokenizer_config.json\n",
      "Special tokens file saved in familjeliv_mlm_automatic/special_tokens_map.json\n"
     ]
    }
   ],
   "source": [
    "trainer.save_model(\"familjeliv_mlm_automatic\")"
   ]
  },
  {
   "cell_type": "markdown",
   "id": "3630df8a-4745-462d-87c9-6a2a292c9664",
   "metadata": {},
   "source": [
    "### Using model from previous domain to annotate data from new domain"
   ]
  },
  {
   "cell_type": "markdown",
   "id": "e9cfaefb-f63b-40af-ab84-eefb1798a3f7",
   "metadata": {},
   "source": [
    "#### Creating new SVM classifier "
   ]
  },
  {
   "cell_type": "markdown",
   "id": "14a5c863-6568-4a4e-a8e4-e9ed1815ddc9",
   "metadata": {},
   "source": [
    "First we need to import the model, and use that for inference on the new data, in order to create a new \"golden standard\":"
   ]
  },
  {
   "cell_type": "code",
   "execution_count": 8,
   "id": "925924dd-cf57-498d-996f-c0c7445e4ede",
   "metadata": {
    "tags": []
   },
   "outputs": [],
   "source": [
    "tokenizer = AutoTokenizer.from_pretrained(\"flashback_automatic_model\")\n",
    "automatic_model_pipeline = pipeline(\n",
    "    \"text-classification\",\n",
    "    model=\"flashback_automatic_model\",\n",
    ")"
   ]
  },
  {
   "cell_type": "markdown",
   "id": "d4ada8ed-d44a-47b0-a4db-0823befe40bf",
   "metadata": {},
   "source": [
    "Then we import the unannotated data from familjeliv, as well as the test set (to make sure that they don't find themselves into the training data):"
   ]
  },
  {
   "cell_type": "code",
   "execution_count": 9,
   "id": "52534a8c-9cc6-4412-be09-d9629a7b4e60",
   "metadata": {},
   "outputs": [],
   "source": [
    "conn = sqlite3.connect(\"data/familjeliv.db\")\n",
    "with conn:\n",
    "    familjeliv_df = pd.read_sql_query(\"SELECT * FROM posts;\", conn, index_col=\"id\")\n",
    "\n",
    "# import the testset\n",
    "familjeliv_testset = DatasetDict.load_from_disk(\"datasets/familjeliv_annotated_dataset\")\n",
    "\n",
    "# remove posts which also exist in the testset\n",
    "familjeliv_df = familjeliv_df[~familjeliv_df[\"text\"].isin(familjeliv_testset[\"test\"][\"text\"])]\n",
    "familjeliv_df[\"label\"] = 0  # default to 0\n",
    "familjeliv_df = familjeliv_df[[\"text\", \"label\"]]\n",
    "\n",
    "# shuffle dataset according to random seed and crop\n",
    "familjeliv_df = familjeliv_df.sample(frac = 1, random_state = 666).reset_index(drop=True) # shuffle dataframe\n",
    "familjeliv_df = familjeliv_df[:20000]"
   ]
  },
  {
   "cell_type": "code",
   "execution_count": 33,
   "id": "65fbd022-55d9-484a-8bf6-fe32f8f39f70",
   "metadata": {
    "tags": []
   },
   "outputs": [
    {
     "name": "stdout",
     "output_type": "stream",
     "text": [
      "CPU times: user 2h 23min 39s, sys: 0 ns, total: 2h 23min 39s\n",
      "Wall time: 24min 1s\n"
     ]
    }
   ],
   "source": [
    "%%time\n",
    "tokenizer_kwargs = {'padding':True, 'truncation':True, 'max_length':512}\n",
    "tmp_model_predictions = automatic_model_pipeline(list(familjeliv_df[\"text\"]), **tokenizer_kwargs)"
   ]
  },
  {
   "cell_type": "markdown",
   "id": "a16c2699-680e-4832-ab4a-73883f25fdc2",
   "metadata": {},
   "source": [
    "Since inference takes a while, let's save it so that we don't have to do it again after restarting the kernel:"
   ]
  },
  {
   "cell_type": "code",
   "execution_count": 34,
   "id": "692738b3-956a-45ad-beac-319463591105",
   "metadata": {},
   "outputs": [],
   "source": [
    "import pickle\n",
    "\n",
    "with open(\"datasets/familjeliv_20000_inference.pkl\", \"wb\") as f:\n",
    "    pickle.dump(tmp_model_predictions, f)"
   ]
  },
  {
   "cell_type": "markdown",
   "id": "b6a905a1-0fad-4c90-9227-1702c5c0c0db",
   "metadata": {},
   "source": [
    "And a cell for importing:"
   ]
  },
  {
   "cell_type": "code",
   "execution_count": 10,
   "id": "9e08c075-7c61-46bb-a649-802cacfec15d",
   "metadata": {},
   "outputs": [],
   "source": [
    "import pickle\n",
    "\n",
    "with open(\"datasets/familjeliv_20000_inference.pkl\", \"rb\") as f:\n",
    "    tmp_model_predictions = pickle.load(f)"
   ]
  },
  {
   "cell_type": "code",
   "execution_count": 11,
   "id": "06e530d8-afa6-4b9f-a878-5de54091b15c",
   "metadata": {},
   "outputs": [],
   "source": [
    "tmp_model_predictions = [0 if x[\"label\"] == \"LABEL_0\" else 1 for x in tmp_model_predictions]"
   ]
  },
  {
   "cell_type": "code",
   "execution_count": 12,
   "id": "6ffb272a-2bb5-4258-b36f-b9aa618bab24",
   "metadata": {
    "tags": []
   },
   "outputs": [
    {
     "data": {
      "text/plain": [
       "DatasetDict({\n",
       "    train: Dataset({\n",
       "        features: ['text', 'label'],\n",
       "        num_rows: 16000\n",
       "    })\n",
       "    test: Dataset({\n",
       "        features: ['text', 'label'],\n",
       "        num_rows: 4000\n",
       "    })\n",
       "})"
      ]
     },
     "execution_count": 12,
     "metadata": {},
     "output_type": "execute_result"
    }
   ],
   "source": [
    "familjeliv_df[\"label\"] = tmp_model_predictions\n",
    "\n",
    "train_size = int(len(familjeliv_df) * 0.8)\n",
    "familjeliv_devset = DatasetDict({\n",
    "    \"train\": Dataset.from_pandas(familjeliv_df[:train_size].reset_index(drop=True)),\n",
    "    \"test\": Dataset.from_pandas(familjeliv_df[train_size:].reset_index(drop=True))\n",
    "})\n",
    "familjeliv_devset"
   ]
  },
  {
   "cell_type": "markdown",
   "id": "80625fb5-e10b-4b7a-9ee9-06d120809e5d",
   "metadata": {},
   "source": [
    "NB. The training data here is all automatically derived."
   ]
  },
  {
   "cell_type": "code",
   "execution_count": 13,
   "id": "49749b50-1f67-42c9-8a84-fc22739d7e62",
   "metadata": {
    "tags": []
   },
   "outputs": [
    {
     "name": "stderr",
     "output_type": "stream",
     "text": [
      "/usr/local/lib/python3.9/dist-packages/sklearn/feature_extraction/text.py:404: UserWarning: Your stop_words may be inconsistent with your preprocessing. Tokenizing the stop words generated tokens ['[', ']'] not in stop_words.\n",
      "  warnings.warn(\n"
     ]
    },
    {
     "name": "stdout",
     "output_type": "stream",
     "text": [
      "muslimer\n",
      "dom\n",
      "##a\n",
      "islam\n",
      "feminist\n",
      "##er\n",
      "feminist ##er\n",
      "kvinnor\n",
      "män\n",
      "##ar\n",
      "muslimska\n",
      "femin\n",
      "bara\n",
      "##r\n",
      "fan\n",
      "sverige\n",
      "folk\n",
      "andra\n",
      "##t\n",
      "vita\n",
      "våld\n",
      "##e\n",
      "kommer\n",
      "##fem\n",
      "judar\n"
     ]
    }
   ],
   "source": [
    "tfidf_pipeline = make_pipeline(\n",
    "    TfidfVectorizer(\n",
    "        analyzer=\"word\",\n",
    "        ngram_range=(1, 6),\n",
    "        tokenizer=lambda x: tokenizer(x).tokens(),\n",
    "        stop_words=fb_stopwords\n",
    "    ),\n",
    "    LinearSVC(C=55)\n",
    ")\n",
    "\n",
    "tfidf_pipeline.fit(familjeliv_devset[\"train\"][\"text\"], familjeliv_devset[\"train\"][\"label\"])\n",
    "\n",
    "features = tfidf_pipeline[0].get_feature_names_out()\n",
    "\n",
    "for i in np.array(tfidf_pipeline._final_estimator.coef_[0]).argsort()[-25:][::-1]:\n",
    "    print(features[i])"
   ]
  },
  {
   "cell_type": "markdown",
   "id": "80df424c-ad87-4def-8e98-7a1b130bfd95",
   "metadata": {},
   "source": [
    "#### Precision/recall curves\n",
    "\n",
    "Display precision/recall curves for different thresholds in the SVM classifier"
   ]
  },
  {
   "cell_type": "code",
   "execution_count": 14,
   "id": "8138bfcc-e1ad-48db-b22c-c7ef7b56e526",
   "metadata": {},
   "outputs": [],
   "source": [
    "familjeliv_testset = DatasetDict.load_from_disk(\"datasets/familjeliv_testset\")[\"test\"]\n",
    "X, y_true = familjeliv_testset[\"text\"], familjeliv_testset[\"label\"]"
   ]
  },
  {
   "cell_type": "code",
   "execution_count": 18,
   "id": "6da5c105-73b2-46dc-829a-b52337dd1a5e",
   "metadata": {},
   "outputs": [
    {
     "data": {
      "image/png": "[encoded data removed]",
      "text/plain": [
       "<Figure size 432x288 with 1 Axes>"
      ]
     },
     "metadata": {
      "needs_background": "light"
     },
     "output_type": "display_data"
    },
    {
     "data": {
      "image/png": "[encoded data removed]",
      "text/plain": [
       "<Figure size 432x288 with 1 Axes>"
      ]
     },
     "metadata": {
      "needs_background": "light"
     },
     "output_type": "display_data"
    }
   ],
   "source": [
    "pRDisp = PrecisionRecallDisplay.from_estimator(tfidf_pipeline, X, y_true).plot()\n",
    "tikzplotlib.save(\"test.tex\")"
   ]
  },
  {
   "cell_type": "markdown",
   "id": "f25c844e-84fb-41d8-bb62-12f7622f852e",
   "metadata": {},
   "source": [
    "#### Automatically labelling DF"
   ]
  },
  {
   "cell_type": "code",
   "execution_count": 39,
   "id": "84820c9f-c19a-441d-aae8-ed7fadc7aeac",
   "metadata": {},
   "outputs": [],
   "source": [
    "tmp_df = familjeliv_df.copy()\n",
    "pred = tfidf_pipeline.predict(tmp_df[\"text\"].to_numpy())\n",
    "tmp_df[\"label\"] = pred"
   ]
  },
  {
   "cell_type": "code",
   "execution_count": 42,
   "id": "ad99ea4f-4e35-4567-966e-45e414455ff1",
   "metadata": {},
   "outputs": [
    {
     "data": {
      "text/plain": [
       "'17.68% HS'"
      ]
     },
     "execution_count": 42,
     "metadata": {},
     "output_type": "execute_result"
    }
   ],
   "source": [
    "f\"{calc_proportion(tmp_df) * 100:.2f}% HS\""
   ]
  },
  {
   "cell_type": "code",
   "execution_count": 43,
   "id": "d1667e02-a188-471a-8660-5258958332a6",
   "metadata": {},
   "outputs": [
    {
     "data": {
      "text/plain": [
       "0    16464\n",
       "1     3536\n",
       "Name: label, dtype: int64"
      ]
     },
     "execution_count": 43,
     "metadata": {},
     "output_type": "execute_result"
    }
   ],
   "source": [
    "tmp_df[\"label\"].value_counts()"
   ]
  },
  {
   "cell_type": "code",
   "execution_count": 44,
   "id": "fd03532a-b336-49b5-87d9-068735a05d60",
   "metadata": {},
   "outputs": [
    {
     "data": {
      "text/plain": [
       "DatasetDict({\n",
       "    train: Dataset({\n",
       "        features: ['text', 'label'],\n",
       "        num_rows: 16000\n",
       "    })\n",
       "    test: Dataset({\n",
       "        features: ['text', 'label'],\n",
       "        num_rows: 4000\n",
       "    })\n",
       "})"
      ]
     },
     "execution_count": 44,
     "metadata": {},
     "output_type": "execute_result"
    }
   ],
   "source": [
    "training_size = int(0.8 * len(tmp_df))\n",
    "tmp_dataset = DatasetDict({\n",
    "    \"train\": Dataset.from_pandas(tmp_df[:training_size]),\n",
    "    \"test\": Dataset.from_pandas(tmp_df[training_size:])\n",
    "})\n",
    "tmp_dataset"
   ]
  },
  {
   "cell_type": "markdown",
   "id": "baedecee-6887-4063-b597-27187cb2e42b",
   "metadata": {},
   "source": [
    "### Testset metrics for SVM classifier"
   ]
  },
  {
   "cell_type": "code",
   "execution_count": 45,
   "id": "3a604f65-06a5-4e42-abe0-c7026254f0b8",
   "metadata": {},
   "outputs": [
    {
     "data": {
      "text/plain": [
       "Dataset({\n",
       "    features: ['text', 'label'],\n",
       "    num_rows: 978\n",
       "})"
      ]
     },
     "execution_count": 45,
     "metadata": {},
     "output_type": "execute_result"
    }
   ],
   "source": [
    "familjeliv_testset = DatasetDict.load_from_disk(\"datasets/familjeliv_testset\")[\"test\"]\n",
    "familjeliv_testset"
   ]
  },
  {
   "cell_type": "code",
   "execution_count": 46,
   "id": "b57de40f-834e-4c3d-bc12-1cf79de7d925",
   "metadata": {},
   "outputs": [],
   "source": [
    "familjeliv_testset_y_pred = tfidf_pipeline.predict(familjeliv_testset[\"text\"])"
   ]
  },
  {
   "cell_type": "code",
   "execution_count": 47,
   "id": "aab37d14-f46e-4d95-b4c4-8314b94cf41e",
   "metadata": {},
   "outputs": [
    {
     "name": "stdout",
     "output_type": "stream",
     "text": [
      "f1: 0.16939890710382516\n",
      "confusion matrix:\n",
      "\t[643 288]\n",
      "\t[16 31]\n",
      "precision:\n",
      "\t0.09717868338557993\n",
      "recall:\n",
      "\t0.6595744680851063\n"
     ]
    }
   ],
   "source": [
    "conf_matrix = confusion_matrix(y_pred=familjeliv_testset_y_pred, y_true=familjeliv_testset['label'])\n",
    "print(f\"f1: {f1_score(familjeliv_testset['label'], familjeliv_testset_y_pred)}\")\n",
    "print(f\"confusion matrix:\\n\\t{conf_matrix[0]}\\n\\t{conf_matrix[1]}\")\n",
    "print(f\"precision:\\n\\t{precision_score(familjeliv_testset['label'], familjeliv_testset_y_pred)}\")\n",
    "print(f\"recall:\\n\\t{recall_score(familjeliv_testset['label'], familjeliv_testset_y_pred)}\")"
   ]
  },
  {
   "cell_type": "markdown",
   "id": "653a8e73-cc37-4328-b567-6762cc22ac75",
   "metadata": {},
   "source": [
    "### Training BERT using domain-adapted SVM classifier"
   ]
  },
  {
   "cell_type": "code",
   "execution_count": 48,
   "id": "6a899230-c70a-48aa-9bce-a9218b91371d",
   "metadata": {},
   "outputs": [
    {
     "name": "stderr",
     "output_type": "stream",
     "text": [
      "loading configuration file familjeliv_mlm_automatic/config.json\n",
      "Model config BertConfig {\n",
      "  \"_name_or_path\": \"familjeliv_mlm_automatic\",\n",
      "  \"architectures\": [\n",
      "    \"BertForMaskedLM\"\n",
      "  ],\n",
      "  \"attention_probs_dropout_prob\": 0.1,\n",
      "  \"classifier_dropout\": null,\n",
      "  \"gradient_checkpointing\": false,\n",
      "  \"hidden_act\": \"gelu\",\n",
      "  \"hidden_dropout_prob\": 0.1,\n",
      "  \"hidden_size\": 768,\n",
      "  \"initializer_range\": 0.02,\n",
      "  \"intermediate_size\": 3072,\n",
      "  \"layer_norm_eps\": 1e-12,\n",
      "  \"max_position_embeddings\": 512,\n",
      "  \"model_type\": \"bert\",\n",
      "  \"num_attention_heads\": 12,\n",
      "  \"num_hidden_layers\": 12,\n",
      "  \"output_past\": true,\n",
      "  \"pad_token_id\": 0,\n",
      "  \"position_embedding_type\": \"absolute\",\n",
      "  \"torch_dtype\": \"float32\",\n",
      "  \"transformers_version\": \"4.20.1\",\n",
      "  \"type_vocab_size\": 2,\n",
      "  \"use_cache\": true,\n",
      "  \"vocab_size\": 50325\n",
      "}\n",
      "\n",
      "loading weights file familjeliv_mlm_automatic/pytorch_model.bin\n",
      "Some weights of the model checkpoint at familjeliv_mlm_automatic were not used when initializing BertForSequenceClassification: ['cls.predictions.transform.LayerNorm.weight', 'cls.predictions.decoder.bias', 'cls.predictions.transform.dense.weight', 'cls.predictions.transform.dense.bias', 'cls.predictions.decoder.weight', 'cls.predictions.bias', 'cls.predictions.transform.LayerNorm.bias']\n",
      "- This IS expected if you are initializing BertForSequenceClassification from the checkpoint of a model trained on another task or with another architecture (e.g. initializing a BertForSequenceClassification model from a BertForPreTraining model).\n",
      "- This IS NOT expected if you are initializing BertForSequenceClassification from the checkpoint of a model that you expect to be exactly identical (initializing a BertForSequenceClassification model from a BertForSequenceClassification model).\n",
      "Some weights of BertForSequenceClassification were not initialized from the model checkpoint at familjeliv_mlm_automatic and are newly initialized: ['bert.pooler.dense.weight', 'bert.pooler.dense.bias', 'classifier.bias', 'classifier.weight']\n",
      "You should probably TRAIN this model on a down-stream task to be able to use it for predictions and inference.\n",
      "Didn't find file familjeliv_mlm_automatic/added_tokens.json. We won't load it.\n",
      "loading file familjeliv_mlm_automatic/vocab.txt\n",
      "loading file familjeliv_mlm_automatic/tokenizer.json\n",
      "loading file None\n",
      "loading file familjeliv_mlm_automatic/special_tokens_map.json\n",
      "loading file familjeliv_mlm_automatic/tokenizer_config.json\n"
     ]
    },
    {
     "data": {
      "application/vnd.jupyter.widget-view+json": {
       "model_id": "e43901092c024f398e50fee1bed50d7c",
       "version_major": 2,
       "version_minor": 0
      },
      "text/plain": [
       "  0%|          | 0/16 [00:00<?, ?ba/s]"
      ]
     },
     "metadata": {},
     "output_type": "display_data"
    },
    {
     "data": {
      "application/vnd.jupyter.widget-view+json": {
       "model_id": "7088101a7bf8404e8baa5c928174a5e4",
       "version_major": 2,
       "version_minor": 0
      },
      "text/plain": [
       "  0%|          | 0/4 [00:00<?, ?ba/s]"
      ]
     },
     "metadata": {},
     "output_type": "display_data"
    },
    {
     "name": "stderr",
     "output_type": "stream",
     "text": [
      "PyTorch: setting up devices\n",
      "The default value for the training argument `--report_to` will change in v5 (from all installed integrations to none). In v5, you will need to use `--report_to all` to get the same behavior as now. You should start updating your code and make this info disappear :-).\n"
     ]
    }
   ],
   "source": [
    "configuration = AutoConfig.from_pretrained(\"familjeliv_mlm_automatic\")\n",
    "configuration.hidden_dropout_prob = 0.2\n",
    "configuration.attention_probs_dropout_prob = 0.2\n",
    "masked_lm_checkpoint = AutoModelForSequenceClassification.from_pretrained(\n",
    "    \"familjeliv_mlm_automatic\",\n",
    "    config=configuration\n",
    ")\n",
    "tokenizer = AutoTokenizer.from_pretrained(\"familjeliv_mlm_automatic\")\n",
    "\n",
    "batch_size = 16\n",
    "# Show the training loss with every epoch\n",
    "logging_steps = len(tmp_dataset[\"train\"]) // batch_size\n",
    "model_name = \"bert-base-swedish-cased\"\n",
    "metric = evaluate.load(\"f1\")\n",
    "\n",
    "tokenizer.model_max_length = 512  # since this is incorrectly set in KB's model\n",
    "tokenizer.model_max_length\n",
    "\n",
    "def tokenize_function(examples):\n",
    "    return tokenizer(examples[\"text\"], padding=\"max_length\", truncation=True)\n",
    "\n",
    "\n",
    "tokenized_datasets = tmp_dataset.map(tokenize_function, batched=True)\n",
    "\n",
    "def compute_metrics(eval_pred):\n",
    "    logits, labels = eval_pred\n",
    "    predictions = np.argmax(logits, axis=-1)\n",
    "    return metric.compute(predictions=predictions, references=labels)\n",
    "\n",
    "training_args = TrainingArguments(\n",
    "    output_dir=f\"{model_name}-finetuned-automatic-classification-familjeliv\",\n",
    "    overwrite_output_dir=True,\n",
    "    evaluation_strategy=\"epoch\",\n",
    "    learning_rate=1e-5,\n",
    "    weight_decay=0.0005,\n",
    "    per_device_train_batch_size=batch_size,\n",
    "    per_device_eval_batch_size=batch_size,\n",
    "    eval_accumulation_steps=1,  # slower, but less prone to overflow CUDA memory\n",
    "    num_train_epochs=3,\n",
    "    logging_steps=logging_steps,\n",
    "    save_strategy=\"no\",  # I don't need to save model checkpoints when running experiments\n",
    ")\n",
    "\n",
    "trainer = Trainer(\n",
    "    model=masked_lm_checkpoint,\n",
    "    args=training_args,\n",
    "    train_dataset=tokenized_datasets[\"train\"],\n",
    "    eval_dataset=tokenized_datasets[\"test\"],\n",
    "    tokenizer=tokenizer,\n",
    "    compute_metrics=compute_metrics,\n",
    ")"
   ]
  },
  {
   "cell_type": "code",
   "execution_count": 49,
   "id": "e00c61da-d3a4-4382-9c86-efc20dd9db15",
   "metadata": {},
   "outputs": [
    {
     "name": "stderr",
     "output_type": "stream",
     "text": [
      "The following columns in the training set don't have a corresponding argument in `BertForSequenceClassification.forward` and have been ignored: text. If text are not expected by `BertForSequenceClassification.forward`,  you can safely ignore this message.\n",
      "/usr/local/lib/python3.9/dist-packages/transformers/optimization.py:306: FutureWarning: This implementation of AdamW is deprecated and will be removed in a future version. Use the PyTorch implementation torch.optim.AdamW instead, or set `no_deprecation_warning=True` to disable this warning\n",
      "  warnings.warn(\n",
      "***** Running training *****\n",
      "  Num examples = 16000\n",
      "  Num Epochs = 3\n",
      "  Instantaneous batch size per device = 16\n",
      "  Total train batch size (w. parallel, distributed & accumulation) = 16\n",
      "  Gradient Accumulation steps = 1\n",
      "  Total optimization steps = 3000\n"
     ]
    },
    {
     "data": {
      "text/html": [
       "\n",
       "    <div>\n",
       "      \n",
       "      <progress value='3000' max='3000' style='width:300px; height:20px; vertical-align: middle;'></progress>\n",
       "      [3000/3000 39:13, Epoch 3/3]\n",
       "    </div>\n",
       "    <table border=\"1\" class=\"dataframe\">\n",
       "  <thead>\n",
       " <tr style=\"text-align: left;\">\n",
       "      <th>Epoch</th>\n",
       "      <th>Training Loss</th>\n",
       "      <th>Validation Loss</th>\n",
       "      <th>F1</th>\n",
       "    </tr>\n",
       "  </thead>\n",
       "  <tbody>\n",
       "    <tr>\n",
       "      <td>1</td>\n",
       "      <td>0.197000</td>\n",
       "      <td>0.998392</td>\n",
       "      <td>0.549689</td>\n",
       "    </tr>\n",
       "    <tr>\n",
       "      <td>2</td>\n",
       "      <td>0.111600</td>\n",
       "      <td>1.383434</td>\n",
       "      <td>0.540881</td>\n",
       "    </tr>\n",
       "    <tr>\n",
       "      <td>3</td>\n",
       "      <td>0.065900</td>\n",
       "      <td>1.576425</td>\n",
       "      <td>0.552618</td>\n",
       "    </tr>\n",
       "  </tbody>\n",
       "</table><p>"
      ],
      "text/plain": [
       "<IPython.core.display.HTML object>"
      ]
     },
     "metadata": {},
     "output_type": "display_data"
    },
    {
     "name": "stderr",
     "output_type": "stream",
     "text": [
      "The following columns in the evaluation set don't have a corresponding argument in `BertForSequenceClassification.forward` and have been ignored: text. If text are not expected by `BertForSequenceClassification.forward`,  you can safely ignore this message.\n",
      "***** Running Evaluation *****\n",
      "  Num examples = 4000\n",
      "  Batch size = 16\n",
      "The following columns in the evaluation set don't have a corresponding argument in `BertForSequenceClassification.forward` and have been ignored: text. If text are not expected by `BertForSequenceClassification.forward`,  you can safely ignore this message.\n",
      "***** Running Evaluation *****\n",
      "  Num examples = 4000\n",
      "  Batch size = 16\n",
      "The following columns in the evaluation set don't have a corresponding argument in `BertForSequenceClassification.forward` and have been ignored: text. If text are not expected by `BertForSequenceClassification.forward`,  you can safely ignore this message.\n",
      "***** Running Evaluation *****\n",
      "  Num examples = 4000\n",
      "  Batch size = 16\n",
      "\n",
      "\n",
      "Training completed. Do not forget to share your model on huggingface.co/models =)\n",
      "\n",
      "\n"
     ]
    },
    {
     "data": {
      "text/plain": [
       "TrainOutput(global_step=3000, training_loss=0.12484842681884765, metrics={'train_runtime': 2354.0555, 'train_samples_per_second': 20.39, 'train_steps_per_second': 1.274, 'total_flos': 1.262933065728e+16, 'train_loss': 0.12484842681884765, 'epoch': 3.0})"
      ]
     },
     "execution_count": 49,
     "metadata": {},
     "output_type": "execute_result"
    }
   ],
   "source": [
    "trainer.train()"
   ]
  },
  {
   "cell_type": "code",
   "execution_count": 50,
   "id": "dd261f55-7725-418a-9f94-e0a503d15cc5",
   "metadata": {},
   "outputs": [
    {
     "name": "stderr",
     "output_type": "stream",
     "text": [
      "Saving model checkpoint to familjeliv_automatic_model\n",
      "Configuration saved in familjeliv_automatic_model/config.json\n",
      "Model weights saved in familjeliv_automatic_model/pytorch_model.bin\n",
      "tokenizer config file saved in familjeliv_automatic_model/tokenizer_config.json\n",
      "Special tokens file saved in familjeliv_automatic_model/special_tokens_map.json\n"
     ]
    }
   ],
   "source": [
    "trainer.save_model(\"familjeliv_automatic_model\")"
   ]
  },
  {
   "cell_type": "markdown",
   "id": "4d011923-7b6e-4041-bcbc-82d1a94f9ba5",
   "metadata": {
    "tags": []
   },
   "source": [
    "### Metrics for testset"
   ]
  },
  {
   "cell_type": "markdown",
   "id": "1e71b8d3-eb30-40f1-ac33-0d151f74658d",
   "metadata": {
    "tags": []
   },
   "source": [
    "#### Flashback"
   ]
  },
  {
   "cell_type": "code",
   "execution_count": 27,
   "id": "2c837a0d-97b2-430a-b322-0813c4d8e2ee",
   "metadata": {},
   "outputs": [
    {
     "name": "stderr",
     "output_type": "stream",
     "text": [
      "loading configuration file flashback_automatic_model/config.json\n",
      "Model config BertConfig {\n",
      "  \"_name_or_path\": \"flashback_automatic_model\",\n",
      "  \"architectures\": [\n",
      "    \"BertForSequenceClassification\"\n",
      "  ],\n",
      "  \"attention_probs_dropout_prob\": 0.2,\n",
      "  \"classifier_dropout\": null,\n",
      "  \"gradient_checkpointing\": false,\n",
      "  \"hidden_act\": \"gelu\",\n",
      "  \"hidden_dropout_prob\": 0.2,\n",
      "  \"hidden_size\": 768,\n",
      "  \"initializer_range\": 0.02,\n",
      "  \"intermediate_size\": 3072,\n",
      "  \"layer_norm_eps\": 1e-12,\n",
      "  \"max_position_embeddings\": 512,\n",
      "  \"model_type\": \"bert\",\n",
      "  \"num_attention_heads\": 12,\n",
      "  \"num_hidden_layers\": 12,\n",
      "  \"output_past\": true,\n",
      "  \"pad_token_id\": 0,\n",
      "  \"position_embedding_type\": \"absolute\",\n",
      "  \"problem_type\": \"single_label_classification\",\n",
      "  \"torch_dtype\": \"float32\",\n",
      "  \"transformers_version\": \"4.20.1\",\n",
      "  \"type_vocab_size\": 2,\n",
      "  \"use_cache\": true,\n",
      "  \"vocab_size\": 50325\n",
      "}\n",
      "\n",
      "loading configuration file flashback_automatic_model/config.json\n",
      "Model config BertConfig {\n",
      "  \"_name_or_path\": \"flashback_automatic_model\",\n",
      "  \"architectures\": [\n",
      "    \"BertForSequenceClassification\"\n",
      "  ],\n",
      "  \"attention_probs_dropout_prob\": 0.2,\n",
      "  \"classifier_dropout\": null,\n",
      "  \"gradient_checkpointing\": false,\n",
      "  \"hidden_act\": \"gelu\",\n",
      "  \"hidden_dropout_prob\": 0.2,\n",
      "  \"hidden_size\": 768,\n",
      "  \"initializer_range\": 0.02,\n",
      "  \"intermediate_size\": 3072,\n",
      "  \"layer_norm_eps\": 1e-12,\n",
      "  \"max_position_embeddings\": 512,\n",
      "  \"model_type\": \"bert\",\n",
      "  \"num_attention_heads\": 12,\n",
      "  \"num_hidden_layers\": 12,\n",
      "  \"output_past\": true,\n",
      "  \"pad_token_id\": 0,\n",
      "  \"position_embedding_type\": \"absolute\",\n",
      "  \"problem_type\": \"single_label_classification\",\n",
      "  \"torch_dtype\": \"float32\",\n",
      "  \"transformers_version\": \"4.20.1\",\n",
      "  \"type_vocab_size\": 2,\n",
      "  \"use_cache\": true,\n",
      "  \"vocab_size\": 50325\n",
      "}\n",
      "\n",
      "loading weights file flashback_automatic_model/pytorch_model.bin\n",
      "All model checkpoint weights were used when initializing BertForSequenceClassification.\n",
      "\n",
      "All the weights of BertForSequenceClassification were initialized from the model checkpoint at flashback_automatic_model.\n",
      "If your task is similar to the task the model of the checkpoint was trained on, you can already use BertForSequenceClassification for predictions without further training.\n",
      "Didn't find file flashback_automatic_model/added_tokens.json. We won't load it.\n",
      "loading file flashback_automatic_model/vocab.txt\n",
      "loading file flashback_automatic_model/tokenizer.json\n",
      "loading file None\n",
      "loading file flashback_automatic_model/special_tokens_map.json\n",
      "loading file flashback_automatic_model/tokenizer_config.json\n"
     ]
    }
   ],
   "source": [
    "flashback_automatic_pipeline = pipeline(\n",
    "    \"text-classification\",\n",
    "    model=\"flashback_automatic_model\",\n",
    ")"
   ]
  },
  {
   "cell_type": "code",
   "execution_count": 28,
   "id": "0c00ad85-daad-4feb-be41-566c621792af",
   "metadata": {},
   "outputs": [
    {
     "data": {
      "text/plain": [
       "Dataset({\n",
       "    features: ['text', 'label'],\n",
       "    num_rows: 808\n",
       "})"
      ]
     },
     "execution_count": 28,
     "metadata": {},
     "output_type": "execute_result"
    }
   ],
   "source": [
    "flashback_testset = pd.read_csv(\"datasets/flashback_annotated_data_test_set.tsv\", sep=\"\\t\")\n",
    "flashback_testset = Dataset.from_pandas(flashback_testset)\n",
    "flashback_testset"
   ]
  },
  {
   "cell_type": "code",
   "execution_count": 29,
   "id": "5b4038c5-3308-46e0-a25d-23040b15a42d",
   "metadata": {},
   "outputs": [],
   "source": [
    "flashback_metrics = MetricsWrapper(flashback_automatic_pipeline, flashback_testset)"
   ]
  },
  {
   "cell_type": "code",
   "execution_count": 30,
   "id": "4dd68365-b132-4e2e-93c8-72e8acf2d523",
   "metadata": {},
   "outputs": [
    {
     "name": "stdout",
     "output_type": "stream",
     "text": [
      "precision: 0.50\n",
      "recall: 0.60\n",
      "f1_score: 0.55\n"
     ]
    },
    {
     "data": {
      "image/png": "[encoded data removed]",
      "text/plain": [
       "<Figure size 432x288 with 2 Axes>"
      ]
     },
     "metadata": {
      "needs_background": "light"
     },
     "output_type": "display_data"
    }
   ],
   "source": [
    "flashback_metrics.display_metrics()"
   ]
  },
  {
   "cell_type": "code",
   "execution_count": 57,
   "id": "9211e3f9-fa1c-4593-b09b-6af037bea7d7",
   "metadata": {},
   "outputs": [],
   "source": [
    "with open(\"metrics/flashback_automatic_metrics.pkl\", \"wb\") as f:\n",
    "    pickle.dump(flashback_metrics, f)"
   ]
  },
  {
   "cell_type": "markdown",
   "id": "39082212-872a-4f5e-9501-6a1feb52828f",
   "metadata": {},
   "source": [
    "#### Familjeliv"
   ]
  },
  {
   "cell_type": "code",
   "execution_count": 51,
   "id": "6ea35a57-e0a5-4add-91a4-15d476b48281",
   "metadata": {
    "tags": []
   },
   "outputs": [
    {
     "name": "stderr",
     "output_type": "stream",
     "text": [
      "loading configuration file familjeliv_automatic_model/config.json\n",
      "Model config BertConfig {\n",
      "  \"_name_or_path\": \"familjeliv_automatic_model\",\n",
      "  \"architectures\": [\n",
      "    \"BertForSequenceClassification\"\n",
      "  ],\n",
      "  \"attention_probs_dropout_prob\": 0.2,\n",
      "  \"classifier_dropout\": null,\n",
      "  \"gradient_checkpointing\": false,\n",
      "  \"hidden_act\": \"gelu\",\n",
      "  \"hidden_dropout_prob\": 0.2,\n",
      "  \"hidden_size\": 768,\n",
      "  \"initializer_range\": 0.02,\n",
      "  \"intermediate_size\": 3072,\n",
      "  \"layer_norm_eps\": 1e-12,\n",
      "  \"max_position_embeddings\": 512,\n",
      "  \"model_type\": \"bert\",\n",
      "  \"num_attention_heads\": 12,\n",
      "  \"num_hidden_layers\": 12,\n",
      "  \"output_past\": true,\n",
      "  \"pad_token_id\": 0,\n",
      "  \"position_embedding_type\": \"absolute\",\n",
      "  \"problem_type\": \"single_label_classification\",\n",
      "  \"torch_dtype\": \"float32\",\n",
      "  \"transformers_version\": \"4.20.1\",\n",
      "  \"type_vocab_size\": 2,\n",
      "  \"use_cache\": true,\n",
      "  \"vocab_size\": 50325\n",
      "}\n",
      "\n",
      "loading configuration file familjeliv_automatic_model/config.json\n",
      "Model config BertConfig {\n",
      "  \"_name_or_path\": \"familjeliv_automatic_model\",\n",
      "  \"architectures\": [\n",
      "    \"BertForSequenceClassification\"\n",
      "  ],\n",
      "  \"attention_probs_dropout_prob\": 0.2,\n",
      "  \"classifier_dropout\": null,\n",
      "  \"gradient_checkpointing\": false,\n",
      "  \"hidden_act\": \"gelu\",\n",
      "  \"hidden_dropout_prob\": 0.2,\n",
      "  \"hidden_size\": 768,\n",
      "  \"initializer_range\": 0.02,\n",
      "  \"intermediate_size\": 3072,\n",
      "  \"layer_norm_eps\": 1e-12,\n",
      "  \"max_position_embeddings\": 512,\n",
      "  \"model_type\": \"bert\",\n",
      "  \"num_attention_heads\": 12,\n",
      "  \"num_hidden_layers\": 12,\n",
      "  \"output_past\": true,\n",
      "  \"pad_token_id\": 0,\n",
      "  \"position_embedding_type\": \"absolute\",\n",
      "  \"problem_type\": \"single_label_classification\",\n",
      "  \"torch_dtype\": \"float32\",\n",
      "  \"transformers_version\": \"4.20.1\",\n",
      "  \"type_vocab_size\": 2,\n",
      "  \"use_cache\": true,\n",
      "  \"vocab_size\": 50325\n",
      "}\n",
      "\n",
      "loading weights file familjeliv_automatic_model/pytorch_model.bin\n",
      "All model checkpoint weights were used when initializing BertForSequenceClassification.\n",
      "\n",
      "All the weights of BertForSequenceClassification were initialized from the model checkpoint at familjeliv_automatic_model.\n",
      "If your task is similar to the task the model of the checkpoint was trained on, you can already use BertForSequenceClassification for predictions without further training.\n",
      "Didn't find file familjeliv_automatic_model/added_tokens.json. We won't load it.\n",
      "loading file familjeliv_automatic_model/vocab.txt\n",
      "loading file familjeliv_automatic_model/tokenizer.json\n",
      "loading file None\n",
      "loading file familjeliv_automatic_model/special_tokens_map.json\n",
      "loading file familjeliv_automatic_model/tokenizer_config.json\n"
     ]
    }
   ],
   "source": [
    "familjeliv_automatic_pipeline = pipeline(\n",
    "    \"text-classification\",\n",
    "    model=\"familjeliv_automatic_model\",\n",
    ")"
   ]
  },
  {
   "cell_type": "code",
   "execution_count": 52,
   "id": "c3ade139-2b7c-43ab-974c-5ab6241a8b6a",
   "metadata": {},
   "outputs": [
    {
     "data": {
      "text/plain": [
       "Dataset({\n",
       "    features: ['text', 'label'],\n",
       "    num_rows: 978\n",
       "})"
      ]
     },
     "execution_count": 52,
     "metadata": {},
     "output_type": "execute_result"
    }
   ],
   "source": [
    "testset = DatasetDict.load_from_disk(\"datasets/familjeliv_testset\")[\"test\"]\n",
    "testset"
   ]
  },
  {
   "cell_type": "code",
   "execution_count": 53,
   "id": "7c499b9c-54d1-4070-be19-8aa75a725e63",
   "metadata": {},
   "outputs": [],
   "source": [
    "familjeliv_testset_metrics = MetricsWrapper(familjeliv_automatic_pipeline, testset)"
   ]
  },
  {
   "cell_type": "code",
   "execution_count": 54,
   "id": "bf193bf4-307a-4cd6-8ad6-c9570c65b26b",
   "metadata": {},
   "outputs": [
    {
     "name": "stdout",
     "output_type": "stream",
     "text": [
      "precision: 0.18\n",
      "recall: 0.57\n",
      "f1_score: 0.27\n"
     ]
    },
    {
     "data": {
      "image/png": "[encoded data removed]",
      "text/plain": [
       "<Figure size 432x288 with 2 Axes>"
      ]
     },
     "metadata": {
      "needs_background": "light"
     },
     "output_type": "display_data"
    }
   ],
   "source": [
    "familjeliv_testset_metrics.display_metrics()"
   ]
  },
  {
   "cell_type": "markdown",
   "id": "d3d5995f-371e-408b-bfeb-a994e4eb189d",
   "metadata": {},
   "source": [
    "Then save those for drawing conclusions to be used in the discussion"
   ]
  },
  {
   "cell_type": "code",
   "execution_count": 56,
   "id": "40154c07-a3f7-4d3d-8c02-003dbbc3d57a",
   "metadata": {},
   "outputs": [],
   "source": [
    "with open(\"metrics/familjeliv_automatic_metrics.pkl\", \"wb\") as f:\n",
    "    pickle.dump(familjeliv_testset_metrics, f)"
   ]
  }
 ],
 "metadata": {
  "kernelspec": {
   "display_name": "Python 3 (ipykernel)",
   "language": "python",
   "name": "python3"
  },
  "language_info": {
   "codemirror_mode": {
    "name": "ipython",
    "version": 3
   },
   "file_extension": ".py",
   "mimetype": "text/x-python",
   "name": "python",
   "nbconvert_exporter": "python",
   "pygments_lexer": "ipython3",
   "version": "3.8.16"
  },
  "toc-autonumbering": false
 },
 "nbformat": 4,
 "nbformat_minor": 5
}
