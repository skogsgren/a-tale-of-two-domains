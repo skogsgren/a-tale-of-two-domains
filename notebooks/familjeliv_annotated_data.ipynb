{
 "cells": [
  {
   "cell_type": "code",
   "execution_count": 1,
   "id": "32491645-9776-4482-994b-2438f177be79",
   "metadata": {},
   "outputs": [],
   "source": [
    "import pandas as pd\n",
    "import sqlite3\n",
    "from datasets import Dataset, DatasetDict"
   ]
  },
  {
   "cell_type": "markdown",
   "id": "52693885-173f-4295-942f-797e1ba06d32",
   "metadata": {
    "tags": []
   },
   "source": [
    "## Convert SQLITE database to DataFrame and label"
   ]
  },
  {
   "cell_type": "code",
   "execution_count": 2,
   "id": "663b3cc1-f6d8-4d13-9a9f-ffa79c264c98",
   "metadata": {},
   "outputs": [],
   "source": [
    "def sql_to_df(database_filename: str) -> pd.DataFrame:\n",
    "    \"\"\"converts sqlite database to dataframe according to annotated values\"\"\"\n",
    "\n",
    "    # import sql database\n",
    "    conn = sqlite3.connect(database_filename)\n",
    "    with conn:\n",
    "        df = pd.read_sql_query(\"SELECT * FROM posts;\", conn, index_col=\"id\")\n",
    "\n",
    "    # give corresponding label to each row\n",
    "    df[\"label\"] = 0  # default to 0\n",
    "    for row in df.iterrows():\n",
    "        idx, post = row[0], row[1]  # abbrv to make code easier to read\n",
    "        if post[\"sarcasm_irony\"] != 2:\n",
    "            if (\n",
    "                post[\"hatred\"] == 1\n",
    "                or post[\"threat\"] == 1\n",
    "                or (post[\"us_vs_them\"] == 1 and post[\"aggressiveness\"] > 0)\n",
    "                or (post[\"foreigner_attitude\"] == 2 and post[\"aggressiveness\"] > 1)\n",
    "                or (post[\"male_preference\"] == 1 and post[\"aggressiveness\"] > 1)\n",
    "            ):\n",
    "                df.loc[idx, \"label\"] = 1\n",
    "    return df"
   ]
  },
  {
   "cell_type": "code",
   "execution_count": 4,
   "id": "ad9e488e-29b2-4e17-925e-477a2aaaef33",
   "metadata": {},
   "outputs": [
    {
     "data": {
      "text/plain": [
       "DatasetDict({\n",
       "    test: Dataset({\n",
       "        features: ['text', 'label'],\n",
       "        num_rows: 978\n",
       "    })\n",
       "})"
      ]
     },
     "execution_count": 4,
     "metadata": {},
     "output_type": "execute_result"
    }
   ],
   "source": [
    "df = sql_to_df(\"data/familjeliv_annotated_data.db\")\n",
    "df = df[[\"text\", \"label\"]]\n",
    "familjeliv_dataset = DatasetDict({\n",
    "    \"test\": Dataset.from_pandas(df.reset_index(drop=True))\n",
    "})\n",
    "familjeliv_dataset"
   ]
  },
  {
   "cell_type": "code",
   "execution_count": 5,
   "id": "6acc8324-fa1b-42a2-adf8-3269f38570c3",
   "metadata": {},
   "outputs": [],
   "source": [
    "familjeliv_dataset.save_to_disk(\"datasets/familjeliv_testset\")"
   ]
  }
 ],
 "metadata": {
  "kernelspec": {
   "display_name": "Python 3 (ipykernel)",
   "language": "python",
   "name": "python3"
  },
  "language_info": {
   "codemirror_mode": {
    "name": "ipython",
    "version": 3
   },
   "file_extension": ".py",
   "mimetype": "text/x-python",
   "name": "python",
   "nbconvert_exporter": "python",
   "pygments_lexer": "ipython3",
   "version": "3.8.16"
  }
 },
 "nbformat": 4,
 "nbformat_minor": 5
}
